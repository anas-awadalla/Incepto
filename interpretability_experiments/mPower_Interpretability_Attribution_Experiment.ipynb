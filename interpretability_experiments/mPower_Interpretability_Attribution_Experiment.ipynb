{
  "cells": [
    {
      "cell_type": "markdown",
      "metadata": {
        "id": "view-in-github",
        "colab_type": "text"
      },
      "source": [
        "<a href=\"https://colab.research.google.com/github/anas-awadalla/Incepto/blob/master/interpretability_experiments/mPower_Interpretability_Attribution_Experiment.ipynb\" target=\"_parent\"><img src=\"https://colab.research.google.com/assets/colab-badge.svg\" alt=\"Open In Colab\"/></a>"
      ]
    },
    {
      "cell_type": "code",
      "metadata": {
        "id": "0TVNe6Be1oPG",
        "colab_type": "code",
        "colab": {}
      },
      "source": [
        "from torchray.utils import get_device\n",
        "from torchray.attribution.extremal_perturbation import contrastive_reward\n",
        "from tqdm.notebook import tqdm\n",
        "import numpy as np\n",
        "import matplotlib.pyplot as plt\n",
        "from sklearn.preprocessing import StandardScaler\n",
        "from sklearn.cluster import KMeans\n",
        "import torchvision\n",
        "from torchvision import transforms\n",
        "from torch.utils.data import Dataset, DataLoader\n",
        "import torch"
      ],
      "execution_count": 7,
      "outputs": []
    },
    {
      "cell_type": "code",
      "execution_count": 2,
      "metadata": {},
      "outputs": [],
      "source": [
        "device = torch.device('cuda:0')"
      ]
    },
    {
      "cell_type": "code",
      "metadata": {
        "id": "q9I6_BQ4T7SG",
        "colab_type": "code",
        "colab": {},
        "tags": []
      },
      "source": [
        "from parkinsonsNet import Network\n",
        "model = torch.load(\"/home/anasa2/Incepto/pre_trained/parkinsonsNet-rest_mpower-rest.pth\")\n",
        "print(model)"
      ],
      "execution_count": 3,
      "outputs": [
        {
          "output_type": "stream",
          "name": "stdout",
          "text": "Network(\n  (conv1): Sequential(\n    (0): Conv1d(3, 8, kernel_size=(5,), stride=(1,))\n    (1): BatchNorm1d(8, eps=1e-05, momentum=0.1, affine=True, track_running_stats=True)\n    (2): Tanh()\n    (3): MaxPool1d(kernel_size=2, stride=2, padding=0, dilation=1, ceil_mode=False)\n  )\n  (conv2): Sequential(\n    (0): Conv1d(8, 16, kernel_size=(6,), stride=(1,))\n    (1): BatchNorm1d(16, eps=1e-05, momentum=0.1, affine=True, track_running_stats=True)\n    (2): Tanh()\n    (3): MaxPool1d(kernel_size=2, stride=2, padding=0, dilation=1, ceil_mode=False)\n  )\n  (conv3): Sequential(\n    (0): Conv1d(16, 32, kernel_size=(7,), stride=(1,))\n    (1): BatchNorm1d(32, eps=1e-05, momentum=0.1, affine=True, track_running_stats=True)\n    (2): Tanh()\n    (3): MaxPool1d(kernel_size=2, stride=2, padding=0, dilation=1, ceil_mode=False)\n  )\n  (conv4): Sequential(\n    (0): Conv1d(32, 32, kernel_size=(6,), stride=(1,))\n    (1): BatchNorm1d(32, eps=1e-05, momentum=0.1, affine=True, track_running_stats=True)\n    (2): Tanh()\n    (3): MaxPool1d(kernel_size=2, stride=2, padding=0, dilation=1, ceil_mode=False)\n  )\n  (conv5): Sequential(\n    (0): Conv1d(32, 64, kernel_size=(6,), stride=(1,))\n    (1): BatchNorm1d(64, eps=1e-05, momentum=0.1, affine=True, track_running_stats=True)\n    (2): Tanh()\n    (3): MaxPool1d(kernel_size=2, stride=2, padding=0, dilation=1, ceil_mode=False)\n  )\n  (conv6): Sequential(\n    (0): Conv1d(64, 64, kernel_size=(7,), stride=(1,))\n    (1): BatchNorm1d(64, eps=1e-05, momentum=0.1, affine=True, track_running_stats=True)\n    (2): Tanh()\n    (3): MaxPool1d(kernel_size=2, stride=2, padding=0, dilation=1, ceil_mode=False)\n  )\n  (conv7): Sequential(\n    (0): Conv1d(64, 128, kernel_size=(6,), stride=(1,))\n    (1): BatchNorm1d(128, eps=1e-05, momentum=0.1, affine=True, track_running_stats=True)\n    (2): Tanh()\n    (3): MaxPool1d(kernel_size=2, stride=2, padding=0, dilation=1, ceil_mode=False)\n  )\n  (conv8): Sequential(\n    (0): Conv1d(128, 256, kernel_size=(7,), stride=(1,))\n    (1): BatchNorm1d(256, eps=1e-05, momentum=0.1, affine=True, track_running_stats=True)\n    (2): Tanh()\n    (3): MaxPool1d(kernel_size=2, stride=2, padding=0, dilation=1, ceil_mode=False)\n  )\n  (fc): Linear(in_features=2560, out_features=1, bias=True)\n  (fc2): Linear(in_features=120, out_features=84, bias=True)\n  (fc3): Linear(in_features=84, out_features=1, bias=True)\n  (activation): Sigmoid()\n)\n"
        }
      ]
    },
    {
      "cell_type": "code",
      "metadata": {
        "id": "OzN9WoBWjrkD",
        "colab_type": "code",
        "colab": {}
      },
      "source": [
        "trans = transforms.Compose([\n",
        "            transforms.ToPILImage(),\n",
        "            transforms.Resize((224,224)),\n",
        "            transforms.Grayscale(num_output_channels=1),\n",
        "            transforms.ToTensor()])\n",
        "\n",
        "trans_color = transforms.Compose([\n",
        "            transforms.ToPILImage(),\n",
        "            transforms.Resize((224,224)),\n",
        "            transforms.ToTensor()])"
      ],
      "execution_count": 4,
      "outputs": []
    },
    {
      "cell_type": "code",
      "execution_count": 5,
      "metadata": {},
      "outputs": [],
      "source": [
        "import pandas as pd\n",
        "import numpy as np\n",
        "import os\n",
        "from torch.utils.data import Dataset, DataLoader\n",
        "import math\n",
        "import json\n",
        "import time\n",
        "from matplotlib.pylab import plt\n",
        "%matplotlib inline \n",
        "import itertools\n",
        "\n",
        "class testMotionData(Dataset):\n",
        "\n",
        "    def __init__(self, df, users, root_dir = '/home/jupyter/park/', transform=None):\n",
        "      \n",
        "        self.dataset = df\n",
        "        self.root_dir = root_dir\n",
        "        self.dataArray = []\n",
        "        self.resultArray = []\n",
        "        iterData = iter(self.dataset.iterrows())\n",
        "\n",
        "        k = 0\n",
        "\n",
        "        for j,z in zip(iterData,tqdm(range(int(len(self.dataset))))):\n",
        "#           gc.collect()\n",
        "#           gc.collect()\n",
        "          j = j[1]\n",
        "          healthcode = j[3]\n",
        "        \n",
        "          label = users.loc[healthcode][0]\n",
        "          \n",
        "          #print(j)\n",
        "          for i in [8]:\n",
        "            if(not math.isnan(j[i])):\n",
        "                filedir = str(int(j[i]/10000))\n",
        "                filename = str(j[i])\n",
        "                length = len(filename)\n",
        "                filename = filename[0:length-2]\n",
        "\n",
        "                if(os.path.isfile(self.root_dir+filedir+\"/\"+filename+\".json\"))|(os.path.isfile(self.root_dir+\"data\"+\"/\"+filename+\".json\")):\n",
        "                  if(os.path.isfile(self.root_dir+filedir+\"/\"+filename+\".json\")):\n",
        "                    f = open(self.root_dir+filedir+\"/\"+filename+\".json\")\n",
        "                  else:\n",
        "                    f = open(self.root_dir+\"data/\"+filename+\".json\")\n",
        "                try:\n",
        "                    data = json.load(f)\n",
        "                except:\n",
        "                    continue\n",
        "                self.dataArray.append([])\n",
        "                self.dataArray[k].append([])\n",
        "                self.dataArray[k].append([])\n",
        "                self.dataArray[k].append([])\n",
        "                for i in range(0,len(data),2):\n",
        "                      x = data[i].get(\"rotationRate\")\n",
        "#                       print(i)\n",
        "                      self.dataArray[k][0].append(x[\"x\"])\n",
        "                      self.dataArray[k][1].append(x[\"y\"])\n",
        "                      self.dataArray[k][2].append(x[\"z\"])\n",
        "            \n",
        "                stdev = np.std(np.asarray(self.dataArray[k]))\n",
        "                mean = np.mean(np.asarray(self.dataArray[k]))\n",
        "                self.dataArray[k] = ((np.asarray(self.dataArray[k])-mean)/stdev).tolist()\n",
        "                        \n",
        "                self.dataArray[k][0] = correct_batch(self.dataArray[k][0])\n",
        "                self.dataArray[k][1] = correct_batch(self.dataArray[k][1])\n",
        "                self.dataArray[k][2] = correct_batch(self.dataArray[k][2])\n",
        "                \n",
        "                \n",
        "                \n",
        "\n",
        "                if(label):\n",
        "                  self.resultArray.append(1)\n",
        "                else:\n",
        "                  self.resultArray.append(0)\n",
        "                \n",
        "#                 plt.plot(self.dataArray[k][0],label=\"X\")\n",
        "#                 plt.plot(self.dataArray[k][1],label=\"Y\")\n",
        "#                 plt.plot(self.dataArray[k][2],label=\"Z\")\n",
        "#                 plt.suptitle(label)\n",
        "#                 plt.legend(loc=\"upper left\")\n",
        "#                 plt.show()\n",
        "#                 time.sleep(0.5)\n",
        "                \n",
        "\n",
        "                k = k + 1\n",
        "\n",
        "\n",
        "\n",
        "        self.dataArray = np.asarray(self.dataArray)\n",
        "        unique, counts = np.unique(np.array(self.resultArray), return_counts=True)\n",
        "        print(dict(zip(unique, counts)))\n",
        "\n",
        "\n",
        "\n",
        "    def __len__(self):\n",
        "        return len(self.resultArray)\n",
        "\n",
        "    def __getitem__(self, idx):\n",
        "        sample = {'data': self.dataArray[idx], 'result': self.resultArray[idx]}\n",
        "\n",
        "        return sample"
      ]
    },
    {
      "cell_type": "markdown",
      "metadata": {
        "id": "mBrMlT25iV8C",
        "colab_type": "text"
      },
      "source": [
        "## Find Masks"
      ]
    },
    {
      "cell_type": "code",
      "metadata": {
        "id": "4PKxZyADEO1u",
        "colab_type": "code",
        "colab": {},
        "tags": []
      },
      "source": [
        "from torchvision.utils import save_image\n",
        "import os\n",
        "import pandas as pd\n",
        "from signal_purtubation import extremal_perturbation\n",
        "\n",
        "\n",
        "masked = []\n",
        "model.to(device).eval()\n",
        "model = model.float()\n",
        "area = 0.1\n",
        "\n",
        "dataloader = torch.load(\"/home/anasa2/Incepto/originalParkinsonsDataloaders/val_loader.pth\")\n",
        "for i in tqdm(dataloader):  \n",
        "  dta = i.get(\"data\")\n",
        "  dta = dta.to(device)\n",
        "  labels = i.get(\"result\")\n",
        "  for x,y in zip(dta,labels):\n",
        "    if y.item() == 0:\n",
        "      # Extremal perturbation\n",
        "      x = torch.FloatTensor(x.unsqueeze(0).unsqueeze(3).cpu().float()).to(device)\n",
        "      masks_1,_ = extremal_perturbation(\n",
        "          model, x, y.item(),\n",
        "          reward_func=contrastive_reward,\n",
        "          perturbation=\"blur\",\n",
        "          debug=False,\n",
        "          areas=[area],\n",
        "          smooth=0.01,\n",
        "          max_iter=800\n",
        "      )\n",
        "\n",
        "      ## Crop Important Area\n",
        "      dat=torch.round(masks_1)[0].cpu().detach().numpy() # 'sharpen' mask\n",
        "      true_points = np.argwhere(dat)\n",
        "      if len(true_points) != 0:\n",
        "        # take the smallest points and use them as the top left of your crop\n",
        "        top_left = true_points.min(axis=0)\n",
        "        # take the largest points and use them as the bottom right of your crop\n",
        "        bottom_right = true_points.max(axis=0)\n",
        "        x = x.squeeze(3)\n",
        "        print(x.shape)\n",
        "        out = x[:, \n",
        "                  :,top_left[1]:bottom_right[1]]\n",
        "        out =  torch.tensor(out, dtype=torch.float)\n",
        "        print(out.shape)\n",
        "\n",
        "        masked.append(out)\n",
        "      "
      ],
      "execution_count": 28,
      "outputs": [
        {
          "output_type": "display_data",
          "data": {
            "text/plain": "HBox(children=(FloatProgress(value=0.0, max=518.0), HTML(value='')))",
            "application/vnd.jupyter.widget-view+json": {
              "version_major": 2,
              "version_minor": 0,
              "model_id": "474ae62ab72e461880eff80e1f42b3d3"
            }
          },
          "metadata": {}
        },
        {
          "output_type": "stream",
          "name": "stdout",
          "text": "[  0 538   0]\n[   0 1519    0]\ntorch.Size([1, 3, 4000])\ntorch.Size([1, 3, 981])\n[  0 272   0]\n[   0 1471    0]\ntorch.Size([1, 3, 4000])\ntorch.Size([1, 3, 1199])\n[  0 231   0]\n[   0 1281    0]\ntorch.Size([1, 3, 4000])\ntorch.Size([1, 3, 1050])\n\n"
        },
        {
          "output_type": "error",
          "ename": "KeyboardInterrupt",
          "evalue": "",
          "traceback": [
            "\u001b[0;31m---------------------------------------------------------------------------\u001b[0m",
            "\u001b[0;31mKeyboardInterrupt\u001b[0m                         Traceback (most recent call last)",
            "\u001b[0;32m<ipython-input-28-c1c2d0ce6845>\u001b[0m in \u001b[0;36m<module>\u001b[0;34m\u001b[0m\n\u001b[1;32m     26\u001b[0m           \u001b[0mareas\u001b[0m\u001b[0;34m=\u001b[0m\u001b[0;34m[\u001b[0m\u001b[0marea\u001b[0m\u001b[0;34m]\u001b[0m\u001b[0;34m,\u001b[0m\u001b[0;34m\u001b[0m\u001b[0;34m\u001b[0m\u001b[0m\n\u001b[1;32m     27\u001b[0m           \u001b[0msmooth\u001b[0m\u001b[0;34m=\u001b[0m\u001b[0;36m0.01\u001b[0m\u001b[0;34m,\u001b[0m\u001b[0;34m\u001b[0m\u001b[0;34m\u001b[0m\u001b[0m\n\u001b[0;32m---> 28\u001b[0;31m           \u001b[0mmax_iter\u001b[0m\u001b[0;34m=\u001b[0m\u001b[0;36m800\u001b[0m\u001b[0;34m\u001b[0m\u001b[0;34m\u001b[0m\u001b[0m\n\u001b[0m\u001b[1;32m     29\u001b[0m       )\n\u001b[1;32m     30\u001b[0m \u001b[0;34m\u001b[0m\u001b[0m\n",
            "\u001b[0;32m~/Incepto/interpretability_experiments/signal_purtubation.py\u001b[0m in \u001b[0;36mextremal_perturbation\u001b[0;34m(model, input, target, areas, perturbation, max_iter, num_levels, step, sigma, jitter, variant, print_iter, debug, reward_func, resize, resize_mode, smooth)\u001b[0m\n\u001b[1;32m    501\u001b[0m     \u001b[0;31m# Prepare the mask generator.\u001b[0m\u001b[0;34m\u001b[0m\u001b[0;34m\u001b[0m\u001b[0;34m\u001b[0m\u001b[0m\n\u001b[1;32m    502\u001b[0m     \u001b[0mshape\u001b[0m \u001b[0;34m=\u001b[0m \u001b[0mperturbation\u001b[0m\u001b[0;34m.\u001b[0m\u001b[0mpyramid\u001b[0m\u001b[0;34m.\u001b[0m\u001b[0mshape\u001b[0m\u001b[0;34m[\u001b[0m\u001b[0;36m2\u001b[0m\u001b[0;34m:\u001b[0m\u001b[0;34m]\u001b[0m\u001b[0;34m\u001b[0m\u001b[0;34m\u001b[0m\u001b[0m\n\u001b[0;32m--> 503\u001b[0;31m     \u001b[0mmask_generator\u001b[0m \u001b[0;34m=\u001b[0m \u001b[0mMaskGenerator\u001b[0m\u001b[0;34m(\u001b[0m\u001b[0mshape\u001b[0m\u001b[0;34m,\u001b[0m \u001b[0mstep\u001b[0m\u001b[0;34m,\u001b[0m \u001b[0msigma\u001b[0m\u001b[0;34m)\u001b[0m\u001b[0;34m.\u001b[0m\u001b[0mto\u001b[0m\u001b[0;34m(\u001b[0m\u001b[0mdevice\u001b[0m\u001b[0;34m)\u001b[0m\u001b[0;34m\u001b[0m\u001b[0;34m\u001b[0m\u001b[0m\n\u001b[0m\u001b[1;32m    504\u001b[0m     \u001b[0mh\u001b[0m\u001b[0;34m,\u001b[0m \u001b[0mw\u001b[0m \u001b[0;34m=\u001b[0m \u001b[0mmask_generator\u001b[0m\u001b[0;34m.\u001b[0m\u001b[0mshape_in\u001b[0m\u001b[0;34m\u001b[0m\u001b[0;34m\u001b[0m\u001b[0m\n\u001b[1;32m    505\u001b[0m     \u001b[0mpmask\u001b[0m \u001b[0;34m=\u001b[0m \u001b[0mtorch\u001b[0m\u001b[0;34m.\u001b[0m\u001b[0mones\u001b[0m\u001b[0;34m(\u001b[0m\u001b[0mlen\u001b[0m\u001b[0;34m(\u001b[0m\u001b[0mareas\u001b[0m\u001b[0;34m)\u001b[0m\u001b[0;34m,\u001b[0m \u001b[0;36m1\u001b[0m\u001b[0;34m,\u001b[0m \u001b[0mh\u001b[0m\u001b[0;34m,\u001b[0m \u001b[0mw\u001b[0m\u001b[0;34m)\u001b[0m\u001b[0;34m.\u001b[0m\u001b[0mto\u001b[0m\u001b[0;34m(\u001b[0m\u001b[0mdevice\u001b[0m\u001b[0;34m)\u001b[0m\u001b[0;34m\u001b[0m\u001b[0;34m\u001b[0m\u001b[0m\n",
            "\u001b[0;32m~/Incepto/interpretability_experiments/signal_purtubation.py\u001b[0m in \u001b[0;36m__init__\u001b[0;34m(self, shape, step, sigma, clamp, pooling_method)\u001b[0m\n\u001b[1;32m    329\u001b[0m                 )\n\u001b[1;32m    330\u001b[0m                 \u001b[0miy\u001b[0m \u001b[0;34m=\u001b[0m \u001b[0mtorch\u001b[0m\u001b[0;34m.\u001b[0m\u001b[0mfloor\u001b[0m\u001b[0;34m(\u001b[0m\u001b[0mstep_inv\u001b[0m\u001b[0;34m[\u001b[0m\u001b[0;36m0\u001b[0m\u001b[0;34m]\u001b[0m \u001b[0;34m*\u001b[0m \u001b[0muy\u001b[0m\u001b[0;34m)\u001b[0m \u001b[0;34m+\u001b[0m \u001b[0mky\u001b[0m \u001b[0;34m-\u001b[0m \u001b[0mself\u001b[0m\u001b[0;34m.\u001b[0m\u001b[0mpadding\u001b[0m\u001b[0;34m\u001b[0m\u001b[0;34m\u001b[0m\u001b[0m\n\u001b[0;32m--> 331\u001b[0;31m                 \u001b[0mix\u001b[0m \u001b[0;34m=\u001b[0m \u001b[0mtorch\u001b[0m\u001b[0;34m.\u001b[0m\u001b[0mfloor\u001b[0m\u001b[0;34m(\u001b[0m\u001b[0mstep_inv\u001b[0m\u001b[0;34m[\u001b[0m\u001b[0;36m1\u001b[0m\u001b[0;34m]\u001b[0m \u001b[0;34m*\u001b[0m \u001b[0mux\u001b[0m\u001b[0;34m)\u001b[0m \u001b[0;34m+\u001b[0m \u001b[0mkx\u001b[0m \u001b[0;34m-\u001b[0m \u001b[0mself\u001b[0m\u001b[0;34m.\u001b[0m\u001b[0mpadding\u001b[0m\u001b[0;34m\u001b[0m\u001b[0;34m\u001b[0m\u001b[0m\n\u001b[0m\u001b[1;32m    332\u001b[0m \u001b[0;34m\u001b[0m\u001b[0m\n\u001b[1;32m    333\u001b[0m                 delta = torch.sqrt(\n",
            "\u001b[0;31mKeyboardInterrupt\u001b[0m: "
          ]
        }
      ]
    },
    {
      "cell_type": "markdown",
      "metadata": {
        "id": "wJj1iprajcJG",
        "colab_type": "text"
      },
      "source": [
        "## Cluster Representations"
      ]
    },
    {
      "cell_type": "code",
      "metadata": {
        "id": "xPpUbK1uXAys",
        "colab_type": "code",
        "colab": {
          "base_uri": "https://localhost:8080/",
          "height": 66,
          "referenced_widgets": [
            "2700ce43c3744fb6b368361f4801ab16",
            "90c369a3dd7442e88fb5ea471103049e",
            "4d806af0e6684550875745671518c6fd",
            "4b781edcf5504babad12659f940f375e",
            "502080d8080d41d0bfd282fca049dc98",
            "40825bf735644c808d695d6d470fd5eb",
            "b6d07fe65e9648f887dd924bb391db83",
            "823f996438194b158531753e5e1000ff"
          ]
        },
        "outputId": "21f1d7dc-de7d-43d9-843f-7ff08b62dd7f",
        "tags": []
      },
      "source": [
        "orginal_signal = []\n",
        "results = []\n",
        "for i in tqdm(range(len(masked))):\n",
        "  orginal_signal.append((masked[i]).cpu().detach().numpy())\n",
        "  results.append(torch.flatten((masked[i]), start_dim=0).cpu().detach().numpy())\n",
        "X1 = torch.flatten(torch.tensor(results), start_dim=1).cpu().detach().numpy()"
      ],
      "execution_count": 19,
      "outputs": [
        {
          "output_type": "display_data",
          "data": {
            "text/plain": "HBox(children=(FloatProgress(value=0.0, max=29.0), HTML(value='')))",
            "application/vnd.jupyter.widget-view+json": {
              "version_major": 2,
              "version_minor": 0,
              "model_id": "7bd9763fcc2a43d4a06dee35a0c8ccb5"
            }
          },
          "metadata": {}
        },
        {
          "output_type": "stream",
          "name": "stdout",
          "text": "tensor([], size=(0, 3, 982))\ntensor([], size=(0, 3, 1199))\ntensor([], size=(0, 3, 1107))\ntensor([], size=(0, 3, 1309))\ntensor([], size=(0, 3, 1262))\ntensor([], size=(0, 3, 1325))\ntensor([], size=(0, 3, 1283))\ntensor([], size=(0, 3, 1108))\ntensor([], size=(0, 3, 1444))\ntensor([], size=(0, 3, 1486))\ntensor([], size=(0, 3, 1219))\ntensor([], size=(0, 3, 1072))\ntensor([], size=(0, 3, 1402))\ntensor([], size=(0, 3, 1311))\ntensor([], size=(0, 3, 1409))\ntensor([], size=(0, 3, 1178))\ntensor([], size=(0, 3, 554))\ntensor([], size=(0, 3, 1176))\ntensor([], size=(0, 3, 1171))\ntensor([], size=(0, 3, 1108))\ntensor([], size=(0, 3, 1233))\ntensor([], size=(0, 3, 1478))\ntensor([], size=(0, 3, 1247))\ntensor([], size=(0, 3, 1353))\ntensor([], size=(0, 3, 1178))\ntensor([], size=(0, 3, 1150))\ntensor([], size=(0, 3, 1233))\ntensor([], size=(0, 3, 1036))\ntensor([], size=(0, 3, 1128))\n\n"
        }
      ]
    },
    {
      "cell_type": "code",
      "metadata": {
        "id": "kMKYkswEXnax",
        "colab_type": "code",
        "colab": {
          "base_uri": "https://localhost:8080/",
          "height": 34
        },
        "outputId": "a5b51929-e1b1-4535-b92e-5f3c305cd9ac",
        "tags": []
      },
      "source": [
        "#Sanity check\n",
        "X = X1\n",
        "print (\"The shape of X is \" + str(X.shape))"
      ],
      "execution_count": 12,
      "outputs": [
        {
          "output_type": "stream",
          "name": "stdout",
          "text": "The shape of X is (18, 0)\n"
        }
      ]
    },
    {
      "cell_type": "code",
      "metadata": {
        "id": "5WZsupZTXsvb",
        "colab_type": "code",
        "colab": {}
      },
      "source": [
        "# To perform PCA we must first change the mean to 0 and variance to 1 for X using StandardScalar\n",
        "Clus_dataSet = StandardScaler().fit_transform(X) #(mean = 0 and variance = 1)"
      ],
      "execution_count": 13,
      "outputs": [
        {
          "output_type": "error",
          "ename": "ValueError",
          "evalue": "Found array with 0 feature(s) (shape=(18, 0)) while a minimum of 1 is required by StandardScaler.",
          "traceback": [
            "\u001b[0;31m---------------------------------------------------------------------------\u001b[0m",
            "\u001b[0;31mValueError\u001b[0m                                Traceback (most recent call last)",
            "\u001b[0;32m<ipython-input-13-1113f0462f47>\u001b[0m in \u001b[0;36m<module>\u001b[0;34m\u001b[0m\n\u001b[1;32m      1\u001b[0m \u001b[0;31m# To perform PCA we must first change the mean to 0 and variance to 1 for X using StandardScalar\u001b[0m\u001b[0;34m\u001b[0m\u001b[0;34m\u001b[0m\u001b[0;34m\u001b[0m\u001b[0m\n\u001b[0;32m----> 2\u001b[0;31m \u001b[0mClus_dataSet\u001b[0m \u001b[0;34m=\u001b[0m \u001b[0mStandardScaler\u001b[0m\u001b[0;34m(\u001b[0m\u001b[0;34m)\u001b[0m\u001b[0;34m.\u001b[0m\u001b[0mfit_transform\u001b[0m\u001b[0;34m(\u001b[0m\u001b[0mX\u001b[0m\u001b[0;34m)\u001b[0m \u001b[0;31m#(mean = 0 and variance = 1)\u001b[0m\u001b[0;34m\u001b[0m\u001b[0;34m\u001b[0m\u001b[0m\n\u001b[0m",
            "\u001b[0;32m~/deep_Mahalanobis_detector/ood-venv/lib/python3.6/site-packages/sklearn/base.py\u001b[0m in \u001b[0;36mfit_transform\u001b[0;34m(self, X, y, **fit_params)\u001b[0m\n\u001b[1;32m    688\u001b[0m         \u001b[0;32mif\u001b[0m \u001b[0my\u001b[0m \u001b[0;32mis\u001b[0m \u001b[0;32mNone\u001b[0m\u001b[0;34m:\u001b[0m\u001b[0;34m\u001b[0m\u001b[0;34m\u001b[0m\u001b[0m\n\u001b[1;32m    689\u001b[0m             \u001b[0;31m# fit method of arity 1 (unsupervised transformation)\u001b[0m\u001b[0;34m\u001b[0m\u001b[0;34m\u001b[0m\u001b[0;34m\u001b[0m\u001b[0m\n\u001b[0;32m--> 690\u001b[0;31m             \u001b[0;32mreturn\u001b[0m \u001b[0mself\u001b[0m\u001b[0;34m.\u001b[0m\u001b[0mfit\u001b[0m\u001b[0;34m(\u001b[0m\u001b[0mX\u001b[0m\u001b[0;34m,\u001b[0m \u001b[0;34m**\u001b[0m\u001b[0mfit_params\u001b[0m\u001b[0;34m)\u001b[0m\u001b[0;34m.\u001b[0m\u001b[0mtransform\u001b[0m\u001b[0;34m(\u001b[0m\u001b[0mX\u001b[0m\u001b[0;34m)\u001b[0m\u001b[0;34m\u001b[0m\u001b[0;34m\u001b[0m\u001b[0m\n\u001b[0m\u001b[1;32m    691\u001b[0m         \u001b[0;32melse\u001b[0m\u001b[0;34m:\u001b[0m\u001b[0;34m\u001b[0m\u001b[0;34m\u001b[0m\u001b[0m\n\u001b[1;32m    692\u001b[0m             \u001b[0;31m# fit method of arity 2 (supervised transformation)\u001b[0m\u001b[0;34m\u001b[0m\u001b[0;34m\u001b[0m\u001b[0;34m\u001b[0m\u001b[0m\n",
            "\u001b[0;32m~/deep_Mahalanobis_detector/ood-venv/lib/python3.6/site-packages/sklearn/preprocessing/_data.py\u001b[0m in \u001b[0;36mfit\u001b[0;34m(self, X, y)\u001b[0m\n\u001b[1;32m    665\u001b[0m         \u001b[0;31m# Reset internal state before fitting\u001b[0m\u001b[0;34m\u001b[0m\u001b[0;34m\u001b[0m\u001b[0;34m\u001b[0m\u001b[0m\n\u001b[1;32m    666\u001b[0m         \u001b[0mself\u001b[0m\u001b[0;34m.\u001b[0m\u001b[0m_reset\u001b[0m\u001b[0;34m(\u001b[0m\u001b[0;34m)\u001b[0m\u001b[0;34m\u001b[0m\u001b[0;34m\u001b[0m\u001b[0m\n\u001b[0;32m--> 667\u001b[0;31m         \u001b[0;32mreturn\u001b[0m \u001b[0mself\u001b[0m\u001b[0;34m.\u001b[0m\u001b[0mpartial_fit\u001b[0m\u001b[0;34m(\u001b[0m\u001b[0mX\u001b[0m\u001b[0;34m,\u001b[0m \u001b[0my\u001b[0m\u001b[0;34m)\u001b[0m\u001b[0;34m\u001b[0m\u001b[0;34m\u001b[0m\u001b[0m\n\u001b[0m\u001b[1;32m    668\u001b[0m \u001b[0;34m\u001b[0m\u001b[0m\n\u001b[1;32m    669\u001b[0m     \u001b[0;32mdef\u001b[0m \u001b[0mpartial_fit\u001b[0m\u001b[0;34m(\u001b[0m\u001b[0mself\u001b[0m\u001b[0;34m,\u001b[0m \u001b[0mX\u001b[0m\u001b[0;34m,\u001b[0m \u001b[0my\u001b[0m\u001b[0;34m=\u001b[0m\u001b[0;32mNone\u001b[0m\u001b[0;34m)\u001b[0m\u001b[0;34m:\u001b[0m\u001b[0;34m\u001b[0m\u001b[0;34m\u001b[0m\u001b[0m\n",
            "\u001b[0;32m~/deep_Mahalanobis_detector/ood-venv/lib/python3.6/site-packages/sklearn/preprocessing/_data.py\u001b[0m in \u001b[0;36mpartial_fit\u001b[0;34m(self, X, y)\u001b[0m\n\u001b[1;32m    696\u001b[0m         X = self._validate_data(X, accept_sparse=('csr', 'csc'),\n\u001b[1;32m    697\u001b[0m                                 \u001b[0mestimator\u001b[0m\u001b[0;34m=\u001b[0m\u001b[0mself\u001b[0m\u001b[0;34m,\u001b[0m \u001b[0mdtype\u001b[0m\u001b[0;34m=\u001b[0m\u001b[0mFLOAT_DTYPES\u001b[0m\u001b[0;34m,\u001b[0m\u001b[0;34m\u001b[0m\u001b[0;34m\u001b[0m\u001b[0m\n\u001b[0;32m--> 698\u001b[0;31m                                 force_all_finite='allow-nan')\n\u001b[0m\u001b[1;32m    699\u001b[0m \u001b[0;34m\u001b[0m\u001b[0m\n\u001b[1;32m    700\u001b[0m         \u001b[0;31m# Even in the case of `with_mean=False`, we update the mean anyway\u001b[0m\u001b[0;34m\u001b[0m\u001b[0;34m\u001b[0m\u001b[0;34m\u001b[0m\u001b[0m\n",
            "\u001b[0;32m~/deep_Mahalanobis_detector/ood-venv/lib/python3.6/site-packages/sklearn/base.py\u001b[0m in \u001b[0;36m_validate_data\u001b[0;34m(self, X, y, reset, validate_separately, **check_params)\u001b[0m\n\u001b[1;32m    418\u001b[0m                     \u001b[0;34mf\"requires y to be passed, but the target y is None.\"\u001b[0m\u001b[0;34m\u001b[0m\u001b[0;34m\u001b[0m\u001b[0m\n\u001b[1;32m    419\u001b[0m                 )\n\u001b[0;32m--> 420\u001b[0;31m             \u001b[0mX\u001b[0m \u001b[0;34m=\u001b[0m \u001b[0mcheck_array\u001b[0m\u001b[0;34m(\u001b[0m\u001b[0mX\u001b[0m\u001b[0;34m,\u001b[0m \u001b[0;34m**\u001b[0m\u001b[0mcheck_params\u001b[0m\u001b[0;34m)\u001b[0m\u001b[0;34m\u001b[0m\u001b[0;34m\u001b[0m\u001b[0m\n\u001b[0m\u001b[1;32m    421\u001b[0m             \u001b[0mout\u001b[0m \u001b[0;34m=\u001b[0m \u001b[0mX\u001b[0m\u001b[0;34m\u001b[0m\u001b[0;34m\u001b[0m\u001b[0m\n\u001b[1;32m    422\u001b[0m         \u001b[0;32melse\u001b[0m\u001b[0;34m:\u001b[0m\u001b[0;34m\u001b[0m\u001b[0;34m\u001b[0m\u001b[0m\n",
            "\u001b[0;32m~/deep_Mahalanobis_detector/ood-venv/lib/python3.6/site-packages/sklearn/utils/validation.py\u001b[0m in \u001b[0;36minner_f\u001b[0;34m(*args, **kwargs)\u001b[0m\n\u001b[1;32m     71\u001b[0m                           FutureWarning)\n\u001b[1;32m     72\u001b[0m         \u001b[0mkwargs\u001b[0m\u001b[0;34m.\u001b[0m\u001b[0mupdate\u001b[0m\u001b[0;34m(\u001b[0m\u001b[0;34m{\u001b[0m\u001b[0mk\u001b[0m\u001b[0;34m:\u001b[0m \u001b[0marg\u001b[0m \u001b[0;32mfor\u001b[0m \u001b[0mk\u001b[0m\u001b[0;34m,\u001b[0m \u001b[0marg\u001b[0m \u001b[0;32min\u001b[0m \u001b[0mzip\u001b[0m\u001b[0;34m(\u001b[0m\u001b[0msig\u001b[0m\u001b[0;34m.\u001b[0m\u001b[0mparameters\u001b[0m\u001b[0;34m,\u001b[0m \u001b[0margs\u001b[0m\u001b[0;34m)\u001b[0m\u001b[0;34m}\u001b[0m\u001b[0;34m)\u001b[0m\u001b[0;34m\u001b[0m\u001b[0;34m\u001b[0m\u001b[0m\n\u001b[0;32m---> 73\u001b[0;31m         \u001b[0;32mreturn\u001b[0m \u001b[0mf\u001b[0m\u001b[0;34m(\u001b[0m\u001b[0;34m**\u001b[0m\u001b[0mkwargs\u001b[0m\u001b[0;34m)\u001b[0m\u001b[0;34m\u001b[0m\u001b[0;34m\u001b[0m\u001b[0m\n\u001b[0m\u001b[1;32m     74\u001b[0m     \u001b[0;32mreturn\u001b[0m \u001b[0minner_f\u001b[0m\u001b[0;34m\u001b[0m\u001b[0;34m\u001b[0m\u001b[0m\n\u001b[1;32m     75\u001b[0m \u001b[0;34m\u001b[0m\u001b[0m\n",
            "\u001b[0;32m~/deep_Mahalanobis_detector/ood-venv/lib/python3.6/site-packages/sklearn/utils/validation.py\u001b[0m in \u001b[0;36mcheck_array\u001b[0;34m(array, accept_sparse, accept_large_sparse, dtype, order, copy, force_all_finite, ensure_2d, allow_nd, ensure_min_samples, ensure_min_features, estimator)\u001b[0m\n\u001b[1;32m    660\u001b[0m                              \u001b[0;34m\" a minimum of %d is required%s.\"\u001b[0m\u001b[0;34m\u001b[0m\u001b[0;34m\u001b[0m\u001b[0m\n\u001b[1;32m    661\u001b[0m                              % (n_features, array.shape, ensure_min_features,\n\u001b[0;32m--> 662\u001b[0;31m                                 context))\n\u001b[0m\u001b[1;32m    663\u001b[0m \u001b[0;34m\u001b[0m\u001b[0m\n\u001b[1;32m    664\u001b[0m     \u001b[0;32mif\u001b[0m \u001b[0mcopy\u001b[0m \u001b[0;32mand\u001b[0m \u001b[0mnp\u001b[0m\u001b[0;34m.\u001b[0m\u001b[0mmay_share_memory\u001b[0m\u001b[0;34m(\u001b[0m\u001b[0marray\u001b[0m\u001b[0;34m,\u001b[0m \u001b[0marray_orig\u001b[0m\u001b[0;34m)\u001b[0m\u001b[0;34m:\u001b[0m\u001b[0;34m\u001b[0m\u001b[0;34m\u001b[0m\u001b[0m\n",
            "\u001b[0;31mValueError\u001b[0m: Found array with 0 feature(s) (shape=(18, 0)) while a minimum of 1 is required by StandardScaler."
          ]
        }
      ]
    },
    {
      "cell_type": "code",
      "metadata": {
        "id": "6CSBfcK3Xu7n",
        "colab_type": "code",
        "colab": {}
      },
      "source": [
        "from sklearn.decomposition import PCA\n",
        "# Make an instance of the Model\n",
        "variance = 0.\n",
        "pca = PCA(variance)"
      ],
      "execution_count": null,
      "outputs": []
    },
    {
      "cell_type": "code",
      "metadata": {
        "id": "YfxqXgu1XwyE",
        "colab_type": "code",
        "colab": {
          "base_uri": "https://localhost:8080/",
          "height": 51
        },
        "outputId": "d817652f-3c55-48e5-c370-b7ae91e543a7"
      },
      "source": [
        "#fit the data according to our PCA instance\n",
        "pca.fit(Clus_dataSet)"
      ],
      "execution_count": null,
      "outputs": [
        {
          "output_type": "execute_result",
          "data": {
            "text/plain": [
              "PCA(copy=True, iterated_power='auto', n_components=2, random_state=None,\n",
              "    svd_solver='auto', tol=0.0, whiten=False)"
            ]
          },
          "metadata": {
            "tags": []
          },
          "execution_count": 294
        }
      ]
    },
    {
      "cell_type": "code",
      "metadata": {
        "id": "7fCBNKDiXz1h",
        "colab_type": "code",
        "colab": {
          "base_uri": "https://localhost:8080/",
          "height": 51
        },
        "outputId": "3764c838-cf6f-4e25-e88b-0722f9b66df4"
      },
      "source": [
        "print(\"Number of components before PCA  = \" + str(X.shape[1]))\n",
        "print(\"Number of components after PCA 0.98 = \" + str(pca.n_components_))"
      ],
      "execution_count": null,
      "outputs": [
        {
          "output_type": "stream",
          "text": [
            "Number of components before PCA  = 50176\n",
            "Number of components after PCA 0.98 = 2\n"
          ],
          "name": "stdout"
        }
      ]
    },
    {
      "cell_type": "code",
      "metadata": {
        "id": "mQRPU6hyX4QD",
        "colab_type": "code",
        "colab": {}
      },
      "source": [
        "#Transform our data according to our PCA instance\n",
        "Clus_dataSet = pca.transform(Clus_dataSet)"
      ],
      "execution_count": null,
      "outputs": []
    },
    {
      "cell_type": "code",
      "metadata": {
        "id": "Hl98NNupX7AP",
        "colab_type": "code",
        "colab": {
          "base_uri": "https://localhost:8080/",
          "height": 34
        },
        "outputId": "e0131fae-e955-4003-ef23-a918271b2b1a"
      },
      "source": [
        "print(\"Dimension of our data after PCA  = \" + str(Clus_dataSet.shape))"
      ],
      "execution_count": null,
      "outputs": [
        {
          "output_type": "stream",
          "text": [
            "Dimension of our data after PCA  = (55, 2)\n"
          ],
          "name": "stdout"
        }
      ]
    },
    {
      "cell_type": "code",
      "metadata": {
        "id": "zCENzqJkX8VX",
        "colab_type": "code",
        "colab": {}
      },
      "source": [
        "#To visualise the data inversed from PCA\n",
        "approximation = pca.inverse_transform(Clus_dataSet)\n",
        "print(\"Dimension of our data after inverse transforming the PCA  = \" + str(approximation.shape))"
      ],
      "execution_count": null,
      "outputs": []
    },
    {
      "cell_type": "code",
      "metadata": {
        "id": "tZWbnUCG4hk4",
        "colab_type": "code",
        "colab": {}
      },
      "source": [
        "from sklearn.metrics import silhouette_score\n",
        "\n",
        "sil = []\n",
        "\n",
        "ideal = None\n",
        "max = float('-inf')\n",
        "x = Clus_dataSet\n",
        "\n",
        "for k in range(2,3):\n",
        "  kmeans = KMeans(init = \"k-means++\",n_clusters = k, n_init = 35, max_iter=1000).fit(x)\n",
        "  labels = kmeans.labels_\n",
        "  score = silhouette_score(x, labels, metric = 'euclidean')\n",
        "  if(score > max):\n",
        "    max = score\n",
        "    ideal = kmeans"
      ],
      "execution_count": null,
      "outputs": []
    },
    {
      "cell_type": "code",
      "metadata": {
        "id": "RpXERkVc49bg",
        "colab_type": "code",
        "colab": {
          "base_uri": "https://localhost:8080/",
          "height": 68
        },
        "outputId": "ac9a13b0-e9b3-45c3-aba5-855662d2a2ff"
      },
      "source": [
        "k_means = ideal\n",
        "print(k_means)"
      ],
      "execution_count": null,
      "outputs": [
        {
          "output_type": "stream",
          "text": [
            "KMeans(algorithm='auto', copy_x=True, init='k-means++', max_iter=1000,\n",
            "       n_clusters=2, n_init=35, n_jobs=None, precompute_distances='auto',\n",
            "       random_state=None, tol=0.0001, verbose=0)\n"
          ],
          "name": "stdout"
        }
      ]
    },
    {
      "cell_type": "code",
      "metadata": {
        "id": "3FjbKv0ZYrQX",
        "colab_type": "code",
        "colab": {
          "base_uri": "https://localhost:8080/",
          "height": 34
        },
        "outputId": "515eb580-5260-4483-e74a-95d2b64d3f10"
      },
      "source": [
        "k_means_labels = k_means.labels_ #List of labels of each dataset\n",
        "print(\"The list of labels of the clusters are \" + str(np.unique(k_means_labels)))"
      ],
      "execution_count": null,
      "outputs": [
        {
          "output_type": "stream",
          "text": [
            "The list of labels of the clusters are [0 1]\n"
          ],
          "name": "stdout"
        }
      ]
    },
    {
      "cell_type": "code",
      "metadata": {
        "id": "FGFwtk0kmb6i",
        "colab_type": "code",
        "colab": {
          "base_uri": "https://localhost:8080/",
          "height": 34
        },
        "outputId": "f112899b-b335-47fd-a20e-abfb27d23833"
      },
      "source": [
        "k_means_cluster_centers = k_means.cluster_centers_ #numpy array of cluster centers\n",
        "k_means_cluster_centers.shape #comes from 10 clusters and 420 features"
      ],
      "execution_count": null,
      "outputs": [
        {
          "output_type": "execute_result",
          "data": {
            "text/plain": [
              "(2, 50176)"
            ]
          },
          "metadata": {
            "tags": []
          },
          "execution_count": 300
        }
      ]
    },
    {
      "cell_type": "code",
      "metadata": {
        "id": "bWsYj7NTm-zj",
        "colab_type": "code",
        "colab": {
          "base_uri": "https://localhost:8080/",
          "height": 34
        },
        "outputId": "66732778-76d0-4f4c-a29c-ec8cf5ac0bac"
      },
      "source": [
        "k_means.labels_"
      ],
      "execution_count": null,
      "outputs": [
        {
          "output_type": "execute_result",
          "data": {
            "text/plain": [
              "array([0, 0, 0, 0, 0, 0, 0, 0, 0, 0, 0, 1, 0, 0, 0, 0], dtype=int32)"
            ]
          },
          "metadata": {
            "tags": []
          },
          "execution_count": 301
        }
      ]
    },
    {
      "cell_type": "code",
      "metadata": {
        "id": "6zBu6XY6o0ps",
        "colab_type": "code",
        "colab": {}
      },
      "source": [
        "#Find average \"image\" for each cluster\n",
        "clusters = {}\n",
        "for i,j in zip(k_means.labels_,color) :\n",
        "  if i in clusters.keys():\n",
        "    clusters.get(i).append(j)\n",
        "    # clusters.update({i:clusters.get(i).append(j)})\n",
        "  else:\n",
        "    clusters.update({i:[j]})"
      ],
      "execution_count": null,
      "outputs": []
    },
    {
      "cell_type": "markdown",
      "metadata": {
        "id": "I9rgN7BLhHE0",
        "colab_type": "text"
      },
      "source": [
        "## Use Chi^2 Similarity for Comparisons"
      ]
    },
    {
      "cell_type": "code",
      "metadata": {
        "id": "AzQPpeV9FWko",
        "colab_type": "code",
        "colab": {}
      },
      "source": [
        "import cv2\n",
        "\n",
        "def get_similar(arr):\n",
        "  chosen = arr[0]\n",
        "  x = {}\n",
        "  for i in range(len(arr)):\n",
        "    x.update({i: cv2.compareHist(np.array(chosen, dtype=np.float32), np.array(arr[i], dtype=np.float32), 2)})\n",
        "  x = {k: v for k, v in sorted(x.items(), key=lambda item: item[1])}\n",
        "  return (x.keys())\n",
        "    \n"
      ],
      "execution_count": null,
      "outputs": []
    },
    {
      "cell_type": "code",
      "metadata": {
        "id": "kn-FN2jnJQwr",
        "colab_type": "code",
        "colab": {}
      },
      "source": [
        "def choose_sim(arr,target,ratio):\n",
        "  threshold = int(len(arr)*ratio)\n",
        "  arr = arr[threshold:]\n",
        "  result = []\n",
        "  for i in range(len(target)):\n",
        "    if(i in arr):\n",
        "      result.append(target[i])\n",
        "    \n",
        "  return result"
      ],
      "execution_count": null,
      "outputs": []
    },
    {
      "cell_type": "markdown",
      "metadata": {
        "id": "UY-Aom14hcsP",
        "colab_type": "text"
      },
      "source": [
        "## Find visualization by individual pixel comparisons"
      ]
    },
    {
      "cell_type": "code",
      "metadata": {
        "id": "jSb4PsW0kU8E",
        "colab_type": "code",
        "colab": {}
      },
      "source": [
        "def get_representation(arr):\n",
        "  li = []\n",
        "  for i in range(224):\n",
        "    li.append([])\n",
        "    for j in range(224):\n",
        "      dist = {0:0,1:0}\n",
        "      for img in arr:\n",
        "        pixel = img[0][i][j]\n",
        "        if pixel > 0:\n",
        "          pixel = 1\n",
        "        else:\n",
        "          pixel = 0\n",
        "        dist.update({pixel:dist.get(pixel)+1})\n",
        "      if(dist.get(0)>dist.get(1)):\n",
        "        li[i].append(0)\n",
        "      else:\n",
        "        li[i].append(1)\n",
        "  return li\n",
        "\n"
      ],
      "execution_count": null,
      "outputs": []
    },
    {
      "cell_type": "markdown",
      "metadata": {
        "id": "AGIIcsQHhRqo",
        "colab_type": "text"
      },
      "source": [
        "## Visualize Results"
      ]
    },
    {
      "cell_type": "code",
      "metadata": {
        "id": "t0UWViWz91Kq",
        "colab_type": "code",
        "colab": {
          "base_uri": "https://localhost:8080/",
          "height": 583
        },
        "outputId": "589f92e6-0523-4cce-830f-94a4f817e9c3"
      },
      "source": [
        "import matplotlib.pyplot as plt\n",
        "from scipy import ndimage\n",
        "import cv2\n",
        "\n",
        "i = 0\n",
        "for key in clusters.keys():\n",
        "  fig = plt.figure(figsize=(40,40))    \n",
        "  ax = fig.add_subplot(8, 8, i + 1)\n",
        "  arr = get_similar(clusters.get(key))\n",
        "  arr = choose_sim(list(arr),clusters.get(key),0)\n",
        "  arr = sum(arr)/len(arr)\n",
        "  img = torch.tensor(arr).cpu().squeeze().detach().numpy()\n",
        "  ax.plt(img[0])\n",
        "  ax.plt(img[1])\n",
        "  ax.plt(img[2])\n",
        "  i += 1\n",
        "plt.show()\n"
      ],
      "execution_count": null,
      "outputs": [
        {
          "output_type": "stream",
          "text": [
            "224 224\n",
            "224 224\n"
          ],
          "name": "stdout"
        },
        {
          "output_type": "display_data",
          "data": {
            "image/png": "[encoded data removed]",
            "text/plain": [
              "<Figure size 2880x2880 with 1 Axes>"
            ]
          },
          "metadata": {
            "tags": [],
            "needs_background": "light"
          }
        },
        {
          "output_type": "display_data",
          "data": {
            "image/png": "[encoded data removed]",
            "text/plain": [
              "<Figure size 2880x2880 with 1 Axes>"
            ]
          },
          "metadata": {
            "tags": [],
            "needs_background": "light"
          }
        }
      ]
    }
  ],
  "metadata": {
    "colab": {
      "name": "mPower Interpretability Attribution Experiment.ipynb",
      "provenance": [],
      "collapsed_sections": [],
      "mount_file_id": "1hO7_qXQSCNXSZxDGW-pR7y--YB1-LZlm",
      "authorship_tag": "ABX9TyOG0LLRBY6i7PA7u/fW4iDt",
      "include_colab_link": true
    },
    "kernelspec": {
      "name": "python_defaultSpec_1598555045856",
      "display_name": "Python 3.6.9 64-bit"
    },
    "accelerator": "GPU",
    "widgets": {
      "application/vnd.jupyter.widget-state+json": {
        "2700ce43c3744fb6b368361f4801ab16": {
          "model_module": "@jupyter-widgets/controls",
          "model_name": "HBoxModel",
          "state": {
            "_view_name": "HBoxView",
            "_dom_classes": [],
            "_model_name": "HBoxModel",
            "_view_module": "@jupyter-widgets/controls",
            "_model_module_version": "1.5.0",
            "_view_count": null,
            "_view_module_version": "1.5.0",
            "box_style": "",
            "layout": "IPY_MODEL_90c369a3dd7442e88fb5ea471103049e",
            "_model_module": "@jupyter-widgets/controls",
            "children": [
              "IPY_MODEL_4d806af0e6684550875745671518c6fd",
              "IPY_MODEL_4b781edcf5504babad12659f940f375e"
            ]
          }
        },
        "90c369a3dd7442e88fb5ea471103049e": {
          "model_module": "@jupyter-widgets/base",
          "model_name": "LayoutModel",
          "state": {
            "_view_name": "LayoutView",
            "grid_template_rows": null,
            "right": null,
            "justify_content": null,
            "_view_module": "@jupyter-widgets/base",
            "overflow": null,
            "_model_module_version": "1.2.0",
            "_view_count": null,
            "flex_flow": null,
            "width": null,
            "min_width": null,
            "border": null,
            "align_items": null,
            "bottom": null,
            "_model_module": "@jupyter-widgets/base",
            "top": null,
            "grid_column": null,
            "overflow_y": null,
            "overflow_x": null,
            "grid_auto_flow": null,
            "grid_area": null,
            "grid_template_columns": null,
            "flex": null,
            "_model_name": "LayoutModel",
            "justify_items": null,
            "grid_row": null,
            "max_height": null,
            "align_content": null,
            "visibility": null,
            "align_self": null,
            "height": null,
            "min_height": null,
            "padding": null,
            "grid_auto_rows": null,
            "grid_gap": null,
            "max_width": null,
            "order": null,
            "_view_module_version": "1.2.0",
            "grid_template_areas": null,
            "object_position": null,
            "object_fit": null,
            "grid_auto_columns": null,
            "margin": null,
            "display": null,
            "left": null
          }
        },
        "4d806af0e6684550875745671518c6fd": {
          "model_module": "@jupyter-widgets/controls",
          "model_name": "FloatProgressModel",
          "state": {
            "_view_name": "ProgressView",
            "style": "IPY_MODEL_502080d8080d41d0bfd282fca049dc98",
            "_dom_classes": [],
            "description": "100%",
            "_model_name": "FloatProgressModel",
            "bar_style": "success",
            "max": 16,
            "_view_module": "@jupyter-widgets/controls",
            "_model_module_version": "1.5.0",
            "value": 16,
            "_view_count": null,
            "_view_module_version": "1.5.0",
            "orientation": "horizontal",
            "min": 0,
            "description_tooltip": null,
            "_model_module": "@jupyter-widgets/controls",
            "layout": "IPY_MODEL_40825bf735644c808d695d6d470fd5eb"
          }
        },
        "4b781edcf5504babad12659f940f375e": {
          "model_module": "@jupyter-widgets/controls",
          "model_name": "HTMLModel",
          "state": {
            "_view_name": "HTMLView",
            "style": "IPY_MODEL_b6d07fe65e9648f887dd924bb391db83",
            "_dom_classes": [],
            "description": "",
            "_model_name": "HTMLModel",
            "placeholder": "​",
            "_view_module": "@jupyter-widgets/controls",
            "_model_module_version": "1.5.0",
            "value": " 16/16 [00:11&lt;00:00,  1.37it/s]",
            "_view_count": null,
            "_view_module_version": "1.5.0",
            "description_tooltip": null,
            "_model_module": "@jupyter-widgets/controls",
            "layout": "IPY_MODEL_823f996438194b158531753e5e1000ff"
          }
        },
        "502080d8080d41d0bfd282fca049dc98": {
          "model_module": "@jupyter-widgets/controls",
          "model_name": "ProgressStyleModel",
          "state": {
            "_view_name": "StyleView",
            "_model_name": "ProgressStyleModel",
            "description_width": "initial",
            "_view_module": "@jupyter-widgets/base",
            "_model_module_version": "1.5.0",
            "_view_count": null,
            "_view_module_version": "1.2.0",
            "bar_color": null,
            "_model_module": "@jupyter-widgets/controls"
          }
        },
        "40825bf735644c808d695d6d470fd5eb": {
          "model_module": "@jupyter-widgets/base",
          "model_name": "LayoutModel",
          "state": {
            "_view_name": "LayoutView",
            "grid_template_rows": null,
            "right": null,
            "justify_content": null,
            "_view_module": "@jupyter-widgets/base",
            "overflow": null,
            "_model_module_version": "1.2.0",
            "_view_count": null,
            "flex_flow": null,
            "width": null,
            "min_width": null,
            "border": null,
            "align_items": null,
            "bottom": null,
            "_model_module": "@jupyter-widgets/base",
            "top": null,
            "grid_column": null,
            "overflow_y": null,
            "overflow_x": null,
            "grid_auto_flow": null,
            "grid_area": null,
            "grid_template_columns": null,
            "flex": null,
            "_model_name": "LayoutModel",
            "justify_items": null,
            "grid_row": null,
            "max_height": null,
            "align_content": null,
            "visibility": null,
            "align_self": null,
            "height": null,
            "min_height": null,
            "padding": null,
            "grid_auto_rows": null,
            "grid_gap": null,
            "max_width": null,
            "order": null,
            "_view_module_version": "1.2.0",
            "grid_template_areas": null,
            "object_position": null,
            "object_fit": null,
            "grid_auto_columns": null,
            "margin": null,
            "display": null,
            "left": null
          }
        },
        "b6d07fe65e9648f887dd924bb391db83": {
          "model_module": "@jupyter-widgets/controls",
          "model_name": "DescriptionStyleModel",
          "state": {
            "_view_name": "StyleView",
            "_model_name": "DescriptionStyleModel",
            "description_width": "",
            "_view_module": "@jupyter-widgets/base",
            "_model_module_version": "1.5.0",
            "_view_count": null,
            "_view_module_version": "1.2.0",
            "_model_module": "@jupyter-widgets/controls"
          }
        },
        "823f996438194b158531753e5e1000ff": {
          "model_module": "@jupyter-widgets/base",
          "model_name": "LayoutModel",
          "state": {
            "_view_name": "LayoutView",
            "grid_template_rows": null,
            "right": null,
            "justify_content": null,
            "_view_module": "@jupyter-widgets/base",
            "overflow": null,
            "_model_module_version": "1.2.0",
            "_view_count": null,
            "flex_flow": null,
            "width": null,
            "min_width": null,
            "border": null,
            "align_items": null,
            "bottom": null,
            "_model_module": "@jupyter-widgets/base",
            "top": null,
            "grid_column": null,
            "overflow_y": null,
            "overflow_x": null,
            "grid_auto_flow": null,
            "grid_area": null,
            "grid_template_columns": null,
            "flex": null,
            "_model_name": "LayoutModel",
            "justify_items": null,
            "grid_row": null,
            "max_height": null,
            "align_content": null,
            "visibility": null,
            "align_self": null,
            "height": null,
            "min_height": null,
            "padding": null,
            "grid_auto_rows": null,
            "grid_gap": null,
            "max_width": null,
            "order": null,
            "_view_module_version": "1.2.0",
            "grid_template_areas": null,
            "object_position": null,
            "object_fit": null,
            "grid_auto_columns": null,
            "margin": null,
            "display": null,
            "left": null
          }
        }
      }
    }
  },
  "nbformat": 4,
  "nbformat_minor": 0
}