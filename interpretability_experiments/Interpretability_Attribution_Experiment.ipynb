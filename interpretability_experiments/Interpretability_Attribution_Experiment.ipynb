{
  "nbformat": 4,
  "nbformat_minor": 0,
  "metadata": {
    "colab": {
      "name": "Interpretability Attribution Experiment.ipynb",
      "provenance": []
    },
    "kernelspec": {
      "name": "python3",
      "display_name": "Python 3"
    },
    "accelerator": "GPU",
    "widgets": {
      "application/vnd.jupyter.widget-state+json": {
        "fa0a8c7109b24922b6d916b0a8cced84": {
          "model_module": "@jupyter-widgets/controls",
          "model_name": "HBoxModel",
          "state": {
            "_view_name": "HBoxView",
            "_dom_classes": [],
            "_model_name": "HBoxModel",
            "_view_module": "@jupyter-widgets/controls",
            "_model_module_version": "1.5.0",
            "_view_count": null,
            "_view_module_version": "1.5.0",
            "box_style": "",
            "layout": "IPY_MODEL_5fec65a75f32452b9fd751658b8425d8",
            "_model_module": "@jupyter-widgets/controls",
            "children": [
              "IPY_MODEL_cb6a7616ebc54575b1ef8e74b114efa2",
              "IPY_MODEL_4adf29bf00394428932e91660df83416"
            ]
          }
        },
        "5fec65a75f32452b9fd751658b8425d8": {
          "model_module": "@jupyter-widgets/base",
          "model_name": "LayoutModel",
          "state": {
            "_view_name": "LayoutView",
            "grid_template_rows": null,
            "right": null,
            "justify_content": null,
            "_view_module": "@jupyter-widgets/base",
            "overflow": null,
            "_model_module_version": "1.2.0",
            "_view_count": null,
            "flex_flow": null,
            "width": null,
            "min_width": null,
            "border": null,
            "align_items": null,
            "bottom": null,
            "_model_module": "@jupyter-widgets/base",
            "top": null,
            "grid_column": null,
            "overflow_y": null,
            "overflow_x": null,
            "grid_auto_flow": null,
            "grid_area": null,
            "grid_template_columns": null,
            "flex": null,
            "_model_name": "LayoutModel",
            "justify_items": null,
            "grid_row": null,
            "max_height": null,
            "align_content": null,
            "visibility": null,
            "align_self": null,
            "height": null,
            "min_height": null,
            "padding": null,
            "grid_auto_rows": null,
            "grid_gap": null,
            "max_width": null,
            "order": null,
            "_view_module_version": "1.2.0",
            "grid_template_areas": null,
            "object_position": null,
            "object_fit": null,
            "grid_auto_columns": null,
            "margin": null,
            "display": null,
            "left": null
          }
        },
        "cb6a7616ebc54575b1ef8e74b114efa2": {
          "model_module": "@jupyter-widgets/controls",
          "model_name": "FloatProgressModel",
          "state": {
            "_view_name": "ProgressView",
            "style": "IPY_MODEL_e730465f64a04efe93e3688900dc5a5b",
            "_dom_classes": [],
            "description": "  1%",
            "_model_name": "FloatProgressModel",
            "bar_style": "",
            "max": 50000,
            "_view_module": "@jupyter-widgets/controls",
            "_model_module_version": "1.5.0",
            "value": 285,
            "_view_count": null,
            "_view_module_version": "1.5.0",
            "orientation": "horizontal",
            "min": 0,
            "description_tooltip": null,
            "_model_module": "@jupyter-widgets/controls",
            "layout": "IPY_MODEL_4aeff538756945d4a75d62533b0a8f5e"
          }
        },
        "4adf29bf00394428932e91660df83416": {
          "model_module": "@jupyter-widgets/controls",
          "model_name": "HTMLModel",
          "state": {
            "_view_name": "HTMLView",
            "style": "IPY_MODEL_4fe436fedb2d4759816a45eee7511c85",
            "_dom_classes": [],
            "description": "",
            "_model_name": "HTMLModel",
            "placeholder": "​",
            "_view_module": "@jupyter-widgets/controls",
            "_model_module_version": "1.5.0",
            "value": " 285/50000 [05:22&lt;24:04:46,  1.74s/it]",
            "_view_count": null,
            "_view_module_version": "1.5.0",
            "description_tooltip": null,
            "_model_module": "@jupyter-widgets/controls",
            "layout": "IPY_MODEL_f75f1fb8ac764d96b234edd0dd789167"
          }
        },
        "e730465f64a04efe93e3688900dc5a5b": {
          "model_module": "@jupyter-widgets/controls",
          "model_name": "ProgressStyleModel",
          "state": {
            "_view_name": "StyleView",
            "_model_name": "ProgressStyleModel",
            "description_width": "initial",
            "_view_module": "@jupyter-widgets/base",
            "_model_module_version": "1.5.0",
            "_view_count": null,
            "_view_module_version": "1.2.0",
            "bar_color": null,
            "_model_module": "@jupyter-widgets/controls"
          }
        },
        "4aeff538756945d4a75d62533b0a8f5e": {
          "model_module": "@jupyter-widgets/base",
          "model_name": "LayoutModel",
          "state": {
            "_view_name": "LayoutView",
            "grid_template_rows": null,
            "right": null,
            "justify_content": null,
            "_view_module": "@jupyter-widgets/base",
            "overflow": null,
            "_model_module_version": "1.2.0",
            "_view_count": null,
            "flex_flow": null,
            "width": null,
            "min_width": null,
            "border": null,
            "align_items": null,
            "bottom": null,
            "_model_module": "@jupyter-widgets/base",
            "top": null,
            "grid_column": null,
            "overflow_y": null,
            "overflow_x": null,
            "grid_auto_flow": null,
            "grid_area": null,
            "grid_template_columns": null,
            "flex": null,
            "_model_name": "LayoutModel",
            "justify_items": null,
            "grid_row": null,
            "max_height": null,
            "align_content": null,
            "visibility": null,
            "align_self": null,
            "height": null,
            "min_height": null,
            "padding": null,
            "grid_auto_rows": null,
            "grid_gap": null,
            "max_width": null,
            "order": null,
            "_view_module_version": "1.2.0",
            "grid_template_areas": null,
            "object_position": null,
            "object_fit": null,
            "grid_auto_columns": null,
            "margin": null,
            "display": null,
            "left": null
          }
        },
        "4fe436fedb2d4759816a45eee7511c85": {
          "model_module": "@jupyter-widgets/controls",
          "model_name": "DescriptionStyleModel",
          "state": {
            "_view_name": "StyleView",
            "_model_name": "DescriptionStyleModel",
            "description_width": "",
            "_view_module": "@jupyter-widgets/base",
            "_model_module_version": "1.5.0",
            "_view_count": null,
            "_view_module_version": "1.2.0",
            "_model_module": "@jupyter-widgets/controls"
          }
        },
        "f75f1fb8ac764d96b234edd0dd789167": {
          "model_module": "@jupyter-widgets/base",
          "model_name": "LayoutModel",
          "state": {
            "_view_name": "LayoutView",
            "grid_template_rows": null,
            "right": null,
            "justify_content": null,
            "_view_module": "@jupyter-widgets/base",
            "overflow": null,
            "_model_module_version": "1.2.0",
            "_view_count": null,
            "flex_flow": null,
            "width": null,
            "min_width": null,
            "border": null,
            "align_items": null,
            "bottom": null,
            "_model_module": "@jupyter-widgets/base",
            "top": null,
            "grid_column": null,
            "overflow_y": null,
            "overflow_x": null,
            "grid_auto_flow": null,
            "grid_area": null,
            "grid_template_columns": null,
            "flex": null,
            "_model_name": "LayoutModel",
            "justify_items": null,
            "grid_row": null,
            "max_height": null,
            "align_content": null,
            "visibility": null,
            "align_self": null,
            "height": null,
            "min_height": null,
            "padding": null,
            "grid_auto_rows": null,
            "grid_gap": null,
            "max_width": null,
            "order": null,
            "_view_module_version": "1.2.0",
            "grid_template_areas": null,
            "object_position": null,
            "object_fit": null,
            "grid_auto_columns": null,
            "margin": null,
            "display": null,
            "left": null
          }
        },
        "b6b1087fbb91480f9d31f2a96fc06a5c": {
          "model_module": "@jupyter-widgets/controls",
          "model_name": "HBoxModel",
          "state": {
            "_view_name": "HBoxView",
            "_dom_classes": [],
            "_model_name": "HBoxModel",
            "_view_module": "@jupyter-widgets/controls",
            "_model_module_version": "1.5.0",
            "_view_count": null,
            "_view_module_version": "1.5.0",
            "box_style": "",
            "layout": "IPY_MODEL_26f31043863047a291026db701a4fc05",
            "_model_module": "@jupyter-widgets/controls",
            "children": [
              "IPY_MODEL_302e83de54714086ad3cb32098baf20a",
              "IPY_MODEL_cac4dfd2c4fa469dacbcb693e4670c86"
            ]
          }
        },
        "26f31043863047a291026db701a4fc05": {
          "model_module": "@jupyter-widgets/base",
          "model_name": "LayoutModel",
          "state": {
            "_view_name": "LayoutView",
            "grid_template_rows": null,
            "right": null,
            "justify_content": null,
            "_view_module": "@jupyter-widgets/base",
            "overflow": null,
            "_model_module_version": "1.2.0",
            "_view_count": null,
            "flex_flow": null,
            "width": null,
            "min_width": null,
            "border": null,
            "align_items": null,
            "bottom": null,
            "_model_module": "@jupyter-widgets/base",
            "top": null,
            "grid_column": null,
            "overflow_y": null,
            "overflow_x": null,
            "grid_auto_flow": null,
            "grid_area": null,
            "grid_template_columns": null,
            "flex": null,
            "_model_name": "LayoutModel",
            "justify_items": null,
            "grid_row": null,
            "max_height": null,
            "align_content": null,
            "visibility": null,
            "align_self": null,
            "height": null,
            "min_height": null,
            "padding": null,
            "grid_auto_rows": null,
            "grid_gap": null,
            "max_width": null,
            "order": null,
            "_view_module_version": "1.2.0",
            "grid_template_areas": null,
            "object_position": null,
            "object_fit": null,
            "grid_auto_columns": null,
            "margin": null,
            "display": null,
            "left": null
          }
        },
        "302e83de54714086ad3cb32098baf20a": {
          "model_module": "@jupyter-widgets/controls",
          "model_name": "FloatProgressModel",
          "state": {
            "_view_name": "ProgressView",
            "style": "IPY_MODEL_f2e7f015407443049c85e97edc9694e2",
            "_dom_classes": [],
            "description": "100%",
            "_model_name": "FloatProgressModel",
            "bar_style": "success",
            "max": 39,
            "_view_module": "@jupyter-widgets/controls",
            "_model_module_version": "1.5.0",
            "value": 39,
            "_view_count": null,
            "_view_module_version": "1.5.0",
            "orientation": "horizontal",
            "min": 0,
            "description_tooltip": null,
            "_model_module": "@jupyter-widgets/controls",
            "layout": "IPY_MODEL_14d9f5c3f4ec4cf392979fe73cba6fea"
          }
        },
        "cac4dfd2c4fa469dacbcb693e4670c86": {
          "model_module": "@jupyter-widgets/controls",
          "model_name": "HTMLModel",
          "state": {
            "_view_name": "HTMLView",
            "style": "IPY_MODEL_bbba999a6fdc4ef3a720c3fdfa3cd1af",
            "_dom_classes": [],
            "description": "",
            "_model_name": "HTMLModel",
            "placeholder": "​",
            "_view_module": "@jupyter-widgets/controls",
            "_model_module_version": "1.5.0",
            "value": " 39/39 [00:01&lt;00:00, 27.15it/s]",
            "_view_count": null,
            "_view_module_version": "1.5.0",
            "description_tooltip": null,
            "_model_module": "@jupyter-widgets/controls",
            "layout": "IPY_MODEL_fa124ec143df48659c199d34a423d339"
          }
        },
        "f2e7f015407443049c85e97edc9694e2": {
          "model_module": "@jupyter-widgets/controls",
          "model_name": "ProgressStyleModel",
          "state": {
            "_view_name": "StyleView",
            "_model_name": "ProgressStyleModel",
            "description_width": "initial",
            "_view_module": "@jupyter-widgets/base",
            "_model_module_version": "1.5.0",
            "_view_count": null,
            "_view_module_version": "1.2.0",
            "bar_color": null,
            "_model_module": "@jupyter-widgets/controls"
          }
        },
        "14d9f5c3f4ec4cf392979fe73cba6fea": {
          "model_module": "@jupyter-widgets/base",
          "model_name": "LayoutModel",
          "state": {
            "_view_name": "LayoutView",
            "grid_template_rows": null,
            "right": null,
            "justify_content": null,
            "_view_module": "@jupyter-widgets/base",
            "overflow": null,
            "_model_module_version": "1.2.0",
            "_view_count": null,
            "flex_flow": null,
            "width": null,
            "min_width": null,
            "border": null,
            "align_items": null,
            "bottom": null,
            "_model_module": "@jupyter-widgets/base",
            "top": null,
            "grid_column": null,
            "overflow_y": null,
            "overflow_x": null,
            "grid_auto_flow": null,
            "grid_area": null,
            "grid_template_columns": null,
            "flex": null,
            "_model_name": "LayoutModel",
            "justify_items": null,
            "grid_row": null,
            "max_height": null,
            "align_content": null,
            "visibility": null,
            "align_self": null,
            "height": null,
            "min_height": null,
            "padding": null,
            "grid_auto_rows": null,
            "grid_gap": null,
            "max_width": null,
            "order": null,
            "_view_module_version": "1.2.0",
            "grid_template_areas": null,
            "object_position": null,
            "object_fit": null,
            "grid_auto_columns": null,
            "margin": null,
            "display": null,
            "left": null
          }
        },
        "bbba999a6fdc4ef3a720c3fdfa3cd1af": {
          "model_module": "@jupyter-widgets/controls",
          "model_name": "DescriptionStyleModel",
          "state": {
            "_view_name": "StyleView",
            "_model_name": "DescriptionStyleModel",
            "description_width": "",
            "_view_module": "@jupyter-widgets/base",
            "_model_module_version": "1.5.0",
            "_view_count": null,
            "_view_module_version": "1.2.0",
            "_model_module": "@jupyter-widgets/controls"
          }
        },
        "fa124ec143df48659c199d34a423d339": {
          "model_module": "@jupyter-widgets/base",
          "model_name": "LayoutModel",
          "state": {
            "_view_name": "LayoutView",
            "grid_template_rows": null,
            "right": null,
            "justify_content": null,
            "_view_module": "@jupyter-widgets/base",
            "overflow": null,
            "_model_module_version": "1.2.0",
            "_view_count": null,
            "flex_flow": null,
            "width": null,
            "min_width": null,
            "border": null,
            "align_items": null,
            "bottom": null,
            "_model_module": "@jupyter-widgets/base",
            "top": null,
            "grid_column": null,
            "overflow_y": null,
            "overflow_x": null,
            "grid_auto_flow": null,
            "grid_area": null,
            "grid_template_columns": null,
            "flex": null,
            "_model_name": "LayoutModel",
            "justify_items": null,
            "grid_row": null,
            "max_height": null,
            "align_content": null,
            "visibility": null,
            "align_self": null,
            "height": null,
            "min_height": null,
            "padding": null,
            "grid_auto_rows": null,
            "grid_gap": null,
            "max_width": null,
            "order": null,
            "_view_module_version": "1.2.0",
            "grid_template_areas": null,
            "object_position": null,
            "object_fit": null,
            "grid_auto_columns": null,
            "margin": null,
            "display": null,
            "left": null
          }
        }
      }
    }
  },
  "cells": [
    {
      "cell_type": "code",
      "metadata": {
        "id": "2mEpZuIDDl3R",
        "colab_type": "code",
        "colab": {}
      },
      "source": [
        "# What I am experimenting with here?\n",
        "# I am using trying multiple pertubation to find what excites the most (Attribution)\n",
        "# Averaging the multiple areas to find the specfic objects the NN is looking for\n",
        "# Comparing that with the OOD Data \n",
        "\n",
        "# Based on Ruth C. Fong, Mandela Patrick and Andrea Vedaldi, Understanding Deep Networks via Extremal Perturbations and Smooth Masks, ICCV 2019"
      ],
      "execution_count": 59,
      "outputs": []
    },
    {
      "cell_type": "code",
      "metadata": {
        "id": "TKtMjouhEyx2",
        "colab_type": "code",
        "colab": {
          "base_uri": "https://localhost:8080/",
          "height": 411
        },
        "outputId": "f55b6541-39d9-4958-a10c-90c5b1c011f5"
      },
      "source": [
        "!pip install torchray"
      ],
      "execution_count": 60,
      "outputs": [
        {
          "output_type": "stream",
          "text": [
            "Requirement already satisfied: torchray in /usr/local/lib/python3.6/dist-packages (1.0.0.2)\n",
            "Requirement already satisfied: torchvision>=0.3.0 in /usr/local/lib/python3.6/dist-packages (from torchray) (0.7.0+cu101)\n",
            "Requirement already satisfied: pycocotools>=2.0.0 in /usr/local/lib/python3.6/dist-packages (from torchray) (2.0.1)\n",
            "Requirement already satisfied: packaging in /usr/local/lib/python3.6/dist-packages (from torchray) (20.4)\n",
            "Requirement already satisfied: pymongo in /usr/local/lib/python3.6/dist-packages (from torchray) (3.11.0)\n",
            "Requirement already satisfied: matplotlib in /usr/local/lib/python3.6/dist-packages (from torchray) (3.2.2)\n",
            "Requirement already satisfied: importlib-resources in /usr/local/lib/python3.6/dist-packages (from torchray) (3.0.0)\n",
            "Requirement already satisfied: torch>=1.1 in /usr/local/lib/python3.6/dist-packages (from torchray) (1.6.0+cu101)\n",
            "Requirement already satisfied: requests in /usr/local/lib/python3.6/dist-packages (from torchray) (2.23.0)\n",
            "Requirement already satisfied: numpy in /usr/local/lib/python3.6/dist-packages (from torchvision>=0.3.0->torchray) (1.18.5)\n",
            "Requirement already satisfied: pillow>=4.1.1 in /usr/local/lib/python3.6/dist-packages (from torchvision>=0.3.0->torchray) (7.0.0)\n",
            "Requirement already satisfied: cython>=0.27.3 in /usr/local/lib/python3.6/dist-packages (from pycocotools>=2.0.0->torchray) (0.29.21)\n",
            "Requirement already satisfied: setuptools>=18.0 in /usr/local/lib/python3.6/dist-packages (from pycocotools>=2.0.0->torchray) (49.2.0)\n",
            "Requirement already satisfied: six in /usr/local/lib/python3.6/dist-packages (from packaging->torchray) (1.15.0)\n",
            "Requirement already satisfied: pyparsing>=2.0.2 in /usr/local/lib/python3.6/dist-packages (from packaging->torchray) (2.4.7)\n",
            "Requirement already satisfied: cycler>=0.10 in /usr/local/lib/python3.6/dist-packages (from matplotlib->torchray) (0.10.0)\n",
            "Requirement already satisfied: kiwisolver>=1.0.1 in /usr/local/lib/python3.6/dist-packages (from matplotlib->torchray) (1.2.0)\n",
            "Requirement already satisfied: python-dateutil>=2.1 in /usr/local/lib/python3.6/dist-packages (from matplotlib->torchray) (2.8.1)\n",
            "Requirement already satisfied: zipp>=0.4; python_version < \"3.8\" in /usr/local/lib/python3.6/dist-packages (from importlib-resources->torchray) (3.1.0)\n",
            "Requirement already satisfied: future in /usr/local/lib/python3.6/dist-packages (from torch>=1.1->torchray) (0.16.0)\n",
            "Requirement already satisfied: certifi>=2017.4.17 in /usr/local/lib/python3.6/dist-packages (from requests->torchray) (2020.6.20)\n",
            "Requirement already satisfied: chardet<4,>=3.0.2 in /usr/local/lib/python3.6/dist-packages (from requests->torchray) (3.0.4)\n",
            "Requirement already satisfied: urllib3!=1.25.0,!=1.25.1,<1.26,>=1.21.1 in /usr/local/lib/python3.6/dist-packages (from requests->torchray) (1.24.3)\n",
            "Requirement already satisfied: idna<3,>=2.5 in /usr/local/lib/python3.6/dist-packages (from requests->torchray) (2.10)\n"
          ],
          "name": "stdout"
        }
      ]
    },
    {
      "cell_type": "code",
      "metadata": {
        "id": "0TVNe6Be1oPG",
        "colab_type": "code",
        "colab": {}
      },
      "source": [
        "from torchray.attribution.extremal_perturbation import extremal_perturbation, contrastive_reward\n",
        "from torchray.benchmark import get_example_data, plot_example\n",
        "from torchray.utils import get_device\n",
        "from tqdm.notebook import tqdm\n",
        "import numpy as np\n",
        "import matplotlib.pyplot as plt\n",
        "from sklearn.preprocessing import StandardScaler\n",
        "from sklearn.cluster import KMeans\n",
        "import torchvision\n",
        "from torchvision import transforms\n",
        "from torch.utils.data import Dataset, DataLoader\n",
        "import torch"
      ],
      "execution_count": 61,
      "outputs": []
    },
    {
      "cell_type": "code",
      "metadata": {
        "id": "h8UcwO_4SJdI",
        "colab_type": "code",
        "colab": {}
      },
      "source": [
        "transform=transforms.Compose([\n",
        "            transforms.Resize((64,64)),\n",
        "            transforms.Grayscale(num_output_channels=1),\n",
        "            transforms.ToTensor()])"
      ],
      "execution_count": 62,
      "outputs": []
    },
    {
      "cell_type": "code",
      "metadata": {
        "id": "q9I6_BQ4T7SG",
        "colab_type": "code",
        "colab": {
          "base_uri": "https://localhost:8080/",
          "height": 32
        },
        "outputId": "46dd49b5-20f4-4a15-f965-c54de8555c4f"
      },
      "source": [
        "\n",
        "# Obtain example data.\n",
        "model, x, category_id_1, category_id_2 = get_example_data()\n",
        "\n",
        "data = torchvision.datasets.CIFAR10(\"/content/\", train=True,transform=transforms.Compose([transforms.ToTensor()]) , download=True)\n",
        "\n",
        "dataloader = DataLoader(data, batch_size=1,\n",
        "                        shuffle=True, num_workers=0)"
      ],
      "execution_count": 63,
      "outputs": [
        {
          "output_type": "stream",
          "text": [
            "Files already downloaded and verified\n"
          ],
          "name": "stdout"
        }
      ]
    },
    {
      "cell_type": "code",
      "metadata": {
        "id": "OzN9WoBWjrkD",
        "colab_type": "code",
        "colab": {}
      },
      "source": [
        "trans = transforms.Compose([\n",
        "            transforms.ToPILImage(),\n",
        "            transforms.Resize((64,64)),\n",
        "            transforms.Grayscale(num_output_channels=1),\n",
        "            transforms.ToTensor()])\n",
        "\n",
        "trans_color = transforms.Compose([\n",
        "            transforms.ToPILImage(),\n",
        "            transforms.Resize((64,64)),\n",
        "            transforms.ToTensor()])"
      ],
      "execution_count": 64,
      "outputs": []
    },
    {
      "cell_type": "code",
      "metadata": {
        "id": "4PKxZyADEO1u",
        "colab_type": "code",
        "colab": {
          "base_uri": "https://localhost:8080/",
          "height": 49,
          "referenced_widgets": [
            "fa0a8c7109b24922b6d916b0a8cced84",
            "5fec65a75f32452b9fd751658b8425d8",
            "cb6a7616ebc54575b1ef8e74b114efa2",
            "4adf29bf00394428932e91660df83416",
            "e730465f64a04efe93e3688900dc5a5b",
            "4aeff538756945d4a75d62533b0a8f5e",
            "4fe436fedb2d4759816a45eee7511c85",
            "f75f1fb8ac764d96b234edd0dd789167"
          ]
        },
        "outputId": "650d3419-797a-4ea5-cbd8-78c3d05e3889"
      },
      "source": [
        "results = []\n",
        "# Run on GPU if available.\n",
        "device = get_device()\n",
        "model.to(device)\n",
        "area = 0.35\n",
        "\n",
        "for x,y in tqdm(dataloader):\n",
        "  x = x.to(device)\n",
        "  if y.item() ==1:\n",
        "    # Extremal perturbation backprop.\n",
        "    masks_1,_ = extremal_perturbation(\n",
        "        model, x, y.item(),\n",
        "        reward_func=contrastive_reward,\n",
        "        perturbation=\"blur\",\n",
        "        debug=False,\n",
        "        areas=[area],\n",
        "        smooth=0.01,\n",
        "        max_iter=800\n",
        "    )\n",
        "\n",
        "    dat=torch.round(masks_1)[0].cpu().detach().numpy()\n",
        "    # argwhere will give you the coordinates of every non-zero point\n",
        "    true_points = np.argwhere(dat)\n",
        "    if len(true_points) != 0:\n",
        "      # take the smallest points and use them as the top left of your crop\n",
        "      top_left = true_points.min(axis=0)\n",
        "      # take the largest points and use them as the bottom right of your crop\n",
        "      bottom_right = true_points.max(axis=0)\n",
        "      x = trans_color(x.cpu().squeeze()).cpu().detach().numpy()\n",
        "      out = x[:,top_left[1]:bottom_right[1],  # plus 1 because slice isn't\n",
        "                top_left[2]:bottom_right[2]]  # inclusive\n",
        "      results.append(torch.tensor(out, dtype=torch.float))\n",
        "    "
      ],
      "execution_count": null,
      "outputs": [
        {
          "output_type": "display_data",
          "data": {
            "application/vnd.jupyter.widget-view+json": {
              "model_id": "fa0a8c7109b24922b6d916b0a8cced84",
              "version_minor": 0,
              "version_major": 2
            },
            "text/plain": [
              "HBox(children=(FloatProgress(value=0.0, max=50000.0), HTML(value='')))"
            ]
          },
          "metadata": {
            "tags": []
          }
        }
      ]
    },
    {
      "cell_type": "code",
      "metadata": {
        "id": "oN-5ojjHPSar",
        "colab_type": "code",
        "colab": {}
      },
      "source": [
        "## Crop Important Area"
      ],
      "execution_count": null,
      "outputs": []
    },
    {
      "cell_type": "code",
      "metadata": {
        "id": "xPpUbK1uXAys",
        "colab_type": "code",
        "colab": {
          "base_uri": "https://localhost:8080/",
          "height": 82,
          "referenced_widgets": [
            "b6b1087fbb91480f9d31f2a96fc06a5c",
            "26f31043863047a291026db701a4fc05",
            "302e83de54714086ad3cb32098baf20a",
            "cac4dfd2c4fa469dacbcb693e4670c86",
            "f2e7f015407443049c85e97edc9694e2",
            "14d9f5c3f4ec4cf392979fe73cba6fea",
            "bbba999a6fdc4ef3a720c3fdfa3cd1af",
            "fa124ec143df48659c199d34a423d339"
          ]
        },
        "outputId": "3cb3cafe-1eea-4824-cbeb-a6966346a492"
      },
      "source": [
        "color = []\n",
        "for i in tqdm(range(len(results))):\n",
        "  color.append(trans_color(results[i]).cpu().detach().numpy())\n",
        "  results[i] = torch.flatten(trans(results[i]), start_dim=1).cpu().detach().numpy()\n",
        "\n",
        "X1 = torch.flatten(torch.tensor(results), start_dim=1).cpu().detach().numpy()\n",
        "\n",
        "X1.shape\n",
        "\n",
        "\n",
        "\n",
        "# X_train = torch.flatten(result(torch.tensor(out[0])), start_dim=1).cpu().detach().numpy()\n",
        "# print(len(X_train))\n"
      ],
      "execution_count": 66,
      "outputs": [
        {
          "output_type": "display_data",
          "data": {
            "application/vnd.jupyter.widget-view+json": {
              "model_id": "b6b1087fbb91480f9d31f2a96fc06a5c",
              "version_minor": 0,
              "version_major": 2
            },
            "text/plain": [
              "HBox(children=(FloatProgress(value=0.0, max=39.0), HTML(value='')))"
            ]
          },
          "metadata": {
            "tags": []
          }
        },
        {
          "output_type": "stream",
          "text": [
            "\n"
          ],
          "name": "stdout"
        },
        {
          "output_type": "execute_result",
          "data": {
            "text/plain": [
              "(39, 4096)"
            ]
          },
          "metadata": {
            "tags": []
          },
          "execution_count": 66
        }
      ]
    },
    {
      "cell_type": "code",
      "metadata": {
        "id": "ClivNVT9XDU4",
        "colab_type": "code",
        "colab": {
          "base_uri": "https://localhost:8080/",
          "height": 32
        },
        "outputId": "0af58c80-dd67-477f-a5be-79fce745d23b"
      },
      "source": [
        "X = X1\n",
        "X.shape"
      ],
      "execution_count": 67,
      "outputs": [
        {
          "output_type": "execute_result",
          "data": {
            "text/plain": [
              "(39, 4096)"
            ]
          },
          "metadata": {
            "tags": []
          },
          "execution_count": 67
        }
      ]
    },
    {
      "cell_type": "code",
      "metadata": {
        "id": "kMKYkswEXnax",
        "colab_type": "code",
        "colab": {
          "base_uri": "https://localhost:8080/",
          "height": 32
        },
        "outputId": "11cfcad4-23f0-48c9-aaf2-6c0b9c4780a8"
      },
      "source": [
        "#Sanity check\n",
        "print (\"The shape of X is \" + str(X.shape))"
      ],
      "execution_count": 68,
      "outputs": [
        {
          "output_type": "stream",
          "text": [
            "The shape of X is (39, 4096)\n"
          ],
          "name": "stdout"
        }
      ]
    },
    {
      "cell_type": "code",
      "metadata": {
        "id": "5WZsupZTXsvb",
        "colab_type": "code",
        "colab": {}
      },
      "source": [
        "# To perform PCA we must first change the mean to 0 and variance to 1 for X using StandardScalar\n",
        "Clus_dataSet = StandardScaler().fit_transform(X) #(mean = 0 and variance = 1)"
      ],
      "execution_count": 69,
      "outputs": []
    },
    {
      "cell_type": "code",
      "metadata": {
        "id": "6CSBfcK3Xu7n",
        "colab_type": "code",
        "colab": {}
      },
      "source": [
        "from sklearn.decomposition import PCA\n",
        "# Make an instance of the Model\n",
        "variance = 0.98 #The higher the explained variance the more accurate the model will remain\n",
        "pca = PCA(variance)"
      ],
      "execution_count": 70,
      "outputs": []
    },
    {
      "cell_type": "code",
      "metadata": {
        "id": "YfxqXgu1XwyE",
        "colab_type": "code",
        "colab": {
          "base_uri": "https://localhost:8080/",
          "height": 49
        },
        "outputId": "208a370b-7808-47f1-e15a-6b66eb69b891"
      },
      "source": [
        "#fit the data according to our PCA instance\n",
        "pca.fit(Clus_dataSet)"
      ],
      "execution_count": 71,
      "outputs": [
        {
          "output_type": "execute_result",
          "data": {
            "text/plain": [
              "PCA(copy=True, iterated_power='auto', n_components=0.98, random_state=None,\n",
              "    svd_solver='auto', tol=0.0, whiten=False)"
            ]
          },
          "metadata": {
            "tags": []
          },
          "execution_count": 71
        }
      ]
    },
    {
      "cell_type": "code",
      "metadata": {
        "id": "7fCBNKDiXz1h",
        "colab_type": "code",
        "colab": {
          "base_uri": "https://localhost:8080/",
          "height": 49
        },
        "outputId": "bf0df4b4-6193-44d3-9d31-bd2c1e0341e8"
      },
      "source": [
        "print(\"Number of components before PCA  = \" + str(X.shape[1]))\n",
        "print(\"Number of components after PCA 0.98 = \" + str(pca.n_components_)) #dimension reduced from 784"
      ],
      "execution_count": 72,
      "outputs": [
        {
          "output_type": "stream",
          "text": [
            "Number of components before PCA  = 4096\n",
            "Number of components after PCA 0.98 = 20\n"
          ],
          "name": "stdout"
        }
      ]
    },
    {
      "cell_type": "code",
      "metadata": {
        "id": "mQRPU6hyX4QD",
        "colab_type": "code",
        "colab": {}
      },
      "source": [
        "#Transform our data according to our PCA instance\n",
        "Clus_dataSet = pca.transform(Clus_dataSet)"
      ],
      "execution_count": 73,
      "outputs": []
    },
    {
      "cell_type": "code",
      "metadata": {
        "id": "Hl98NNupX7AP",
        "colab_type": "code",
        "colab": {
          "base_uri": "https://localhost:8080/",
          "height": 32
        },
        "outputId": "07a05b8d-1ef8-4e9f-fdcd-bff42f72e663"
      },
      "source": [
        "print(\"Dimension of our data after PCA  = \" + str(Clus_dataSet.shape))"
      ],
      "execution_count": 74,
      "outputs": [
        {
          "output_type": "stream",
          "text": [
            "Dimension of our data after PCA  = (39, 20)\n"
          ],
          "name": "stdout"
        }
      ]
    },
    {
      "cell_type": "code",
      "metadata": {
        "id": "zCENzqJkX8VX",
        "colab_type": "code",
        "colab": {
          "base_uri": "https://localhost:8080/",
          "height": 32
        },
        "outputId": "21d4282c-a1e7-4d6a-9658-09df3fdf33d5"
      },
      "source": [
        "#To visualise the data inversed from PCA\n",
        "approximation = pca.inverse_transform(Clus_dataSet)\n",
        "print(\"Dimension of our data after inverse transforming the PCA  = \" + str(approximation.shape))"
      ],
      "execution_count": 75,
      "outputs": [
        {
          "output_type": "stream",
          "text": [
            "Dimension of our data after inverse transforming the PCA  = (39, 4096)\n"
          ],
          "name": "stdout"
        }
      ]
    },
    {
      "cell_type": "code",
      "metadata": {
        "id": "EFrCNFBiYBLw",
        "colab_type": "code",
        "colab": {}
      },
      "source": [
        "#THIS CODE TAKES A LONG TIME TO RUN, IT IS TO FIND THE n_init VALUE.\n",
        "# #We will use k = 10, not the best choice but for simplicity as the INDEX has 10 values\n",
        "# #to check for best n_init with k = 10\n",
        "# inertia = []\n",
        "# for k in range(5, 100):\n",
        "#     kmeans = KMeans(init = \"k-means++\",n_clusters=10, n_init = k,random_state=1).fit(Clus_dataSet)\n",
        "#     inertia.append(np.sqrt(kmeans.inertia_))\n",
        "\n",
        "# plt.plot(range(5, 100), inertia, marker='s');\n",
        "# plt.xlabel('$k$')\n",
        "# plt.ylabel('$J(C_k)$');\n"
      ],
      "execution_count": 76,
      "outputs": []
    },
    {
      "cell_type": "code",
      "metadata": {
        "id": "tZWbnUCG4hk4",
        "colab_type": "code",
        "colab": {}
      },
      "source": [
        "from sklearn.metrics import silhouette_score\n",
        "\n",
        "sil = []\n",
        "kmax = 10\n",
        "ideal = None\n",
        "max = float('-inf')\n",
        "x = Clus_dataSet\n",
        "# dissimilarity would not be defined for a single cluster, thus, minimum number of clusters should be 2\n",
        "for k in range(2, kmax+1):\n",
        "  kmeans = KMeans(init = \"k-means++\",n_clusters = k, n_init = 35).fit(x)\n",
        "  labels = kmeans.labels_\n",
        "  score = silhouette_score(x, labels, metric = 'euclidean')\n",
        "  if(score > max):\n",
        "    max = score\n",
        "    ideal = kmeans"
      ],
      "execution_count": 77,
      "outputs": []
    },
    {
      "cell_type": "code",
      "metadata": {
        "id": "RpXERkVc49bg",
        "colab_type": "code",
        "colab": {
          "base_uri": "https://localhost:8080/",
          "height": 65
        },
        "outputId": "c735b72f-9b24-437a-df2a-d08c972c3ddd"
      },
      "source": [
        "k_means = ideal\n",
        "print(kmeans)"
      ],
      "execution_count": 78,
      "outputs": [
        {
          "output_type": "stream",
          "text": [
            "KMeans(algorithm='auto', copy_x=True, init='k-means++', max_iter=300,\n",
            "       n_clusters=10, n_init=35, n_jobs=None, precompute_distances='auto',\n",
            "       random_state=None, tol=0.0001, verbose=0)\n"
          ],
          "name": "stdout"
        }
      ]
    },
    {
      "cell_type": "code",
      "metadata": {
        "id": "3FjbKv0ZYrQX",
        "colab_type": "code",
        "colab": {
          "base_uri": "https://localhost:8080/",
          "height": 32
        },
        "outputId": "3f6846c0-1cff-4cce-b4db-5400361153a4"
      },
      "source": [
        "k_means_labels = k_means.labels_ #List of labels of each dataset\n",
        "print(\"The list of labels of the clusters are \" + str(np.unique(k_means_labels)))"
      ],
      "execution_count": 79,
      "outputs": [
        {
          "output_type": "stream",
          "text": [
            "The list of labels of the clusters are [0 1]\n"
          ],
          "name": "stdout"
        }
      ]
    },
    {
      "cell_type": "code",
      "metadata": {
        "id": "FGFwtk0kmb6i",
        "colab_type": "code",
        "colab": {
          "base_uri": "https://localhost:8080/",
          "height": 32
        },
        "outputId": "5cd4dcd8-89cb-46e2-b65b-3b0cc62bdcd2"
      },
      "source": [
        "k_means_cluster_centers = k_means.cluster_centers_ #numpy array of cluster centers\n",
        "k_means_cluster_centers.shape #comes from 10 clusters and 420 features"
      ],
      "execution_count": 80,
      "outputs": [
        {
          "output_type": "execute_result",
          "data": {
            "text/plain": [
              "(2, 20)"
            ]
          },
          "metadata": {
            "tags": []
          },
          "execution_count": 80
        }
      ]
    },
    {
      "cell_type": "code",
      "metadata": {
        "id": "bWsYj7NTm-zj",
        "colab_type": "code",
        "colab": {
          "base_uri": "https://localhost:8080/",
          "height": 49
        },
        "outputId": "bfdcb663-79a8-4d86-99ad-00011502bb1f"
      },
      "source": [
        "k_means.labels_"
      ],
      "execution_count": 81,
      "outputs": [
        {
          "output_type": "execute_result",
          "data": {
            "text/plain": [
              "array([0, 0, 1, 0, 0, 0, 0, 0, 1, 1, 0, 0, 0, 0, 0, 0, 1, 1, 1, 0, 1, 0,\n",
              "       0, 1, 0, 0, 0, 0, 0, 0, 0, 0, 0, 0, 0, 0, 1, 1, 0], dtype=int32)"
            ]
          },
          "metadata": {
            "tags": []
          },
          "execution_count": 81
        }
      ]
    },
    {
      "cell_type": "code",
      "metadata": {
        "id": "6zBu6XY6o0ps",
        "colab_type": "code",
        "colab": {}
      },
      "source": [
        "#Find average \"image\" for each cluster\n",
        "clusters = {}\n",
        "for i,j in zip(k_means.labels_,color) :\n",
        "  if i in clusters.keys():\n",
        "    new_val = [clusters.get(i)]\n",
        "    new_val.append(j)\n",
        "    clusters.update({i:sum(new_val)/2})\n",
        "  else:\n",
        "    clusters.update({i:j})"
      ],
      "execution_count": 82,
      "outputs": []
    },
    {
      "cell_type": "code",
      "metadata": {
        "id": "46hhCCrzD_OX",
        "colab_type": "code",
        "colab": {
          "base_uri": "https://localhost:8080/",
          "height": 1000
        },
        "outputId": "ecde5fe5-b795-48f0-da99-30153783596d"
      },
      "source": [
        "print(clusters)"
      ],
      "execution_count": 83,
      "outputs": [
        {
          "output_type": "stream",
          "text": [
            "{0: array([[[0.23437776, 0.23831332, 0.24590935, ..., 0.3238245 ,\n",
            "         0.3268129 , 0.32898924],\n",
            "        [0.23693785, 0.2408734 , 0.24846943, ..., 0.326279  ,\n",
            "         0.3290223 , 0.33119863],\n",
            "        [0.24257296, 0.24650839, 0.25459653, ..., 0.33389014,\n",
            "         0.33669168, 0.3388642 ],\n",
            "        ...,\n",
            "        [0.5229956 , 0.5167836 , 0.5020674 , ..., 0.5682593 ,\n",
            "         0.56825507, 0.5678811 ],\n",
            "        [0.5436116 , 0.5374533 , 0.52303696, ..., 0.5484073 ,\n",
            "         0.5464617 , 0.5455628 ],\n",
            "        [0.5525804 , 0.5464221 , 0.5322432 , ..., 0.538661  ,\n",
            "         0.5364667 , 0.53559077]],\n",
            "\n",
            "       [[0.24295586, 0.24884462, 0.26010522, ..., 0.38747722,\n",
            "         0.39050466, 0.3907087 ],\n",
            "        [0.24502575, 0.2509145 , 0.2621732 , ..., 0.38959464,\n",
            "         0.39271402, 0.39291805],\n",
            "        [0.24874347, 0.2546303 , 0.2658887 , ..., 0.39623934,\n",
            "         0.3990791 , 0.39925238],\n",
            "        ...,\n",
            "        [0.50395876, 0.49931675, 0.49065056, ..., 0.47303477,\n",
            "         0.47353214, 0.47341532],\n",
            "        [0.52163374, 0.5172981 , 0.50886285, ..., 0.45512688,\n",
            "         0.4542095 , 0.45384395],\n",
            "        [0.52969325, 0.5256027 , 0.5177802 , ..., 0.44550306,\n",
            "         0.44531554, 0.44544005]],\n",
            "\n",
            "       [[0.24722937, 0.2522528 , 0.26644588, ..., 0.39281964,\n",
            "         0.3961777 , 0.39638868],\n",
            "        [0.24734423, 0.25236753, 0.26656058, ..., 0.39502946,\n",
            "         0.39838755, 0.39859852],\n",
            "        [0.2491284 , 0.25402927, 0.2682233 , ..., 0.39907306,\n",
            "         0.40043542, 0.4006156 ],\n",
            "        ...,\n",
            "        [0.4547994 , 0.45292276, 0.4439108 , ..., 0.53938615,\n",
            "         0.5417024 , 0.54153556],\n",
            "        [0.4689467 , 0.4651704 , 0.4566496 , ..., 0.5221954 ,\n",
            "         0.52357364, 0.5237087 ],\n",
            "        [0.4761098 , 0.47257864, 0.46413463, ..., 0.514506  ,\n",
            "         0.51370543, 0.5138385 ]]], dtype=float32), 1: array([[[0.71654415, 0.7175245 , 0.72015166, ..., 0.72401965,\n",
            "         0.7295037 , 0.7324449 ],\n",
            "        [0.7234069 , 0.7243873 , 0.7270144 , ..., 0.7259804 ,\n",
            "         0.7314645 , 0.73440564],\n",
            "        [0.7421799 , 0.74316025, 0.7457874 , ..., 0.7309053 ,\n",
            "         0.735409  , 0.73835015],\n",
            "        ...,\n",
            "        [0.62706804, 0.61531866, 0.5845205 , ..., 0.29928768,\n",
            "         0.3061198 , 0.3089231 ],\n",
            "        [0.60229015, 0.58858   , 0.5616651 , ..., 0.29185814,\n",
            "         0.3001532 , 0.3040671 ],\n",
            "        [0.5900582 , 0.5783088 , 0.5504136 , ..., 0.28957567,\n",
            "         0.29787073, 0.30228248]],\n",
            "\n",
            "       [[0.7248775 , 0.72585785, 0.72738206, ..., 0.74056375,\n",
            "         0.7438419 , 0.7458027 ],\n",
            "        [0.73174024, 0.7327206 , 0.7342448 , ..., 0.7425245 ,\n",
            "         0.7458027 , 0.7477635 ],\n",
            "        [0.7494103 , 0.75039065, 0.7520374 , ..., 0.7470818 ,\n",
            "         0.75036   , 0.75232077],\n",
            "        ...,\n",
            "        [0.6739048 , 0.6621477 , 0.63723195, ..., 0.3947304 ,\n",
            "         0.40705425, 0.41135877],\n",
            "        [0.6480162 , 0.6372396 , 0.61424637, ..., 0.38733914,\n",
            "         0.4012408 , 0.40556067],\n",
            "        [0.63774514, 0.6269685 , 0.60396755, ..., 0.38505667,\n",
            "         0.39895833, 0.40376836]],\n",
            "\n",
            "       [[0.70425093, 0.7052313 , 0.7077359 , ..., 0.70274204,\n",
            "         0.7016008 , 0.7006204 ],\n",
            "        [0.71209407, 0.71307445, 0.71557903, ..., 0.7047028 ,\n",
            "         0.70356154, 0.70258117],\n",
            "        [0.7318474 , 0.7328278 , 0.7353324 , ..., 0.7107307 ,\n",
            "         0.7095895 , 0.70860904],\n",
            "        ...,\n",
            "        [0.69689035, 0.68417585, 0.66235447, ..., 0.4601792 ,\n",
            "         0.46723348, 0.47104013],\n",
            "        [0.67394304, 0.6631894 , 0.6402191 , ..., 0.4536382 ,\n",
            "         0.46208638, 0.46626842],\n",
            "        [0.6636642 , 0.6529106 , 0.631901  , ..., 0.45134807,\n",
            "         0.4598652 , 0.4640472 ]]], dtype=float32)}\n"
          ],
          "name": "stdout"
        }
      ]
    },
    {
      "cell_type": "code",
      "metadata": {
        "id": "jbonH_w09jL_",
        "colab_type": "code",
        "colab": {}
      },
      "source": [
        "# Visualize results"
      ],
      "execution_count": 84,
      "outputs": []
    },
    {
      "cell_type": "code",
      "metadata": {
        "id": "t0UWViWz91Kq",
        "colab_type": "code",
        "colab": {
          "base_uri": "https://localhost:8080/",
          "height": 543
        },
        "outputId": "7c6b186a-41b8-4c27-a4e9-74bd8cd60759"
      },
      "source": [
        "import matplotlib.pyplot as plt\n",
        "from scipy import ndimage\n",
        "\n",
        "i = 0\n",
        "for key in clusters.keys():\n",
        "  fig = plt.figure(figsize=(40,40))    \n",
        "  ax = fig.add_subplot(8, 8, i + 1)\n",
        "\n",
        "  img = np.asarray(torch.tensor(clusters.get(key)).cpu().squeeze().permute(1,2,0).detach().numpy() )\n",
        "  filter_blurred_f = ndimage.gaussian_filter(img, 1)\n",
        "  alpha = 2\n",
        "  sharpened = img + alpha * (img - filter_blurred_f)\n",
        "\n",
        "  ax.imshow(sharpened)\n",
        "  i += 1\n",
        "plt.show()\n"
      ],
      "execution_count": 95,
      "outputs": [
        {
          "output_type": "display_data",
          "data": {
            "image/png": "[encoded data removed]",
            "text/plain": [
              "<Figure size 2880x2880 with 1 Axes>"
            ]
          },
          "metadata": {
            "tags": [],
            "needs_background": "light"
          }
        },
        {
          "output_type": "display_data",
          "data": {
            "image/png": "[encoded data removed]",
            "text/plain": [
              "<Figure size 2880x2880 with 1 Axes>"
            ]
          },
          "metadata": {
            "tags": [],
            "needs_background": "light"
          }
        }
      ]
    },
    {
      "cell_type": "code",
      "metadata": {
        "id": "pg0nlKq3HgyK",
        "colab_type": "code",
        "colab": {}
      },
      "source": [
        ""
      ],
      "execution_count": null,
      "outputs": []
    }
  ]
}