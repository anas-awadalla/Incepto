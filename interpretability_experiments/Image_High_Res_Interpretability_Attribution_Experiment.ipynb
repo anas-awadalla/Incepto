{
  "nbformat": 4,
  "nbformat_minor": 0,
  "metadata": {
    "colab": {
      "name": "Image High Res Interpretability Attribution Experiment.ipynb",
      "provenance": [],
      "collapsed_sections": [],
      "mount_file_id": "1_74RPoknCZ1d-PoHKFR8Wvv9a4COsETv",
      "authorship_tag": "ABX9TyOqokHmFsNitSCG9EQvtipc",
      "include_colab_link": true
    },
    "kernelspec": {
      "name": "python3",
      "display_name": "Python 3"
    },
    "accelerator": "GPU",
    "widgets": {
      "application/vnd.jupyter.widget-state+json": {
        "2700ce43c3744fb6b368361f4801ab16": {
          "model_module": "@jupyter-widgets/controls",
          "model_name": "HBoxModel",
          "state": {
            "_view_name": "HBoxView",
            "_dom_classes": [],
            "_model_name": "HBoxModel",
            "_view_module": "@jupyter-widgets/controls",
            "_model_module_version": "1.5.0",
            "_view_count": null,
            "_view_module_version": "1.5.0",
            "box_style": "",
            "layout": "IPY_MODEL_90c369a3dd7442e88fb5ea471103049e",
            "_model_module": "@jupyter-widgets/controls",
            "children": [
              "IPY_MODEL_4d806af0e6684550875745671518c6fd",
              "IPY_MODEL_4b781edcf5504babad12659f940f375e"
            ]
          }
        },
        "90c369a3dd7442e88fb5ea471103049e": {
          "model_module": "@jupyter-widgets/base",
          "model_name": "LayoutModel",
          "state": {
            "_view_name": "LayoutView",
            "grid_template_rows": null,
            "right": null,
            "justify_content": null,
            "_view_module": "@jupyter-widgets/base",
            "overflow": null,
            "_model_module_version": "1.2.0",
            "_view_count": null,
            "flex_flow": null,
            "width": null,
            "min_width": null,
            "border": null,
            "align_items": null,
            "bottom": null,
            "_model_module": "@jupyter-widgets/base",
            "top": null,
            "grid_column": null,
            "overflow_y": null,
            "overflow_x": null,
            "grid_auto_flow": null,
            "grid_area": null,
            "grid_template_columns": null,
            "flex": null,
            "_model_name": "LayoutModel",
            "justify_items": null,
            "grid_row": null,
            "max_height": null,
            "align_content": null,
            "visibility": null,
            "align_self": null,
            "height": null,
            "min_height": null,
            "padding": null,
            "grid_auto_rows": null,
            "grid_gap": null,
            "max_width": null,
            "order": null,
            "_view_module_version": "1.2.0",
            "grid_template_areas": null,
            "object_position": null,
            "object_fit": null,
            "grid_auto_columns": null,
            "margin": null,
            "display": null,
            "left": null
          }
        },
        "4d806af0e6684550875745671518c6fd": {
          "model_module": "@jupyter-widgets/controls",
          "model_name": "FloatProgressModel",
          "state": {
            "_view_name": "ProgressView",
            "style": "IPY_MODEL_502080d8080d41d0bfd282fca049dc98",
            "_dom_classes": [],
            "description": "100%",
            "_model_name": "FloatProgressModel",
            "bar_style": "success",
            "max": 16,
            "_view_module": "@jupyter-widgets/controls",
            "_model_module_version": "1.5.0",
            "value": 16,
            "_view_count": null,
            "_view_module_version": "1.5.0",
            "orientation": "horizontal",
            "min": 0,
            "description_tooltip": null,
            "_model_module": "@jupyter-widgets/controls",
            "layout": "IPY_MODEL_40825bf735644c808d695d6d470fd5eb"
          }
        },
        "4b781edcf5504babad12659f940f375e": {
          "model_module": "@jupyter-widgets/controls",
          "model_name": "HTMLModel",
          "state": {
            "_view_name": "HTMLView",
            "style": "IPY_MODEL_b6d07fe65e9648f887dd924bb391db83",
            "_dom_classes": [],
            "description": "",
            "_model_name": "HTMLModel",
            "placeholder": "​",
            "_view_module": "@jupyter-widgets/controls",
            "_model_module_version": "1.5.0",
            "value": " 16/16 [00:11&lt;00:00,  1.37it/s]",
            "_view_count": null,
            "_view_module_version": "1.5.0",
            "description_tooltip": null,
            "_model_module": "@jupyter-widgets/controls",
            "layout": "IPY_MODEL_823f996438194b158531753e5e1000ff"
          }
        },
        "502080d8080d41d0bfd282fca049dc98": {
          "model_module": "@jupyter-widgets/controls",
          "model_name": "ProgressStyleModel",
          "state": {
            "_view_name": "StyleView",
            "_model_name": "ProgressStyleModel",
            "description_width": "initial",
            "_view_module": "@jupyter-widgets/base",
            "_model_module_version": "1.5.0",
            "_view_count": null,
            "_view_module_version": "1.2.0",
            "bar_color": null,
            "_model_module": "@jupyter-widgets/controls"
          }
        },
        "40825bf735644c808d695d6d470fd5eb": {
          "model_module": "@jupyter-widgets/base",
          "model_name": "LayoutModel",
          "state": {
            "_view_name": "LayoutView",
            "grid_template_rows": null,
            "right": null,
            "justify_content": null,
            "_view_module": "@jupyter-widgets/base",
            "overflow": null,
            "_model_module_version": "1.2.0",
            "_view_count": null,
            "flex_flow": null,
            "width": null,
            "min_width": null,
            "border": null,
            "align_items": null,
            "bottom": null,
            "_model_module": "@jupyter-widgets/base",
            "top": null,
            "grid_column": null,
            "overflow_y": null,
            "overflow_x": null,
            "grid_auto_flow": null,
            "grid_area": null,
            "grid_template_columns": null,
            "flex": null,
            "_model_name": "LayoutModel",
            "justify_items": null,
            "grid_row": null,
            "max_height": null,
            "align_content": null,
            "visibility": null,
            "align_self": null,
            "height": null,
            "min_height": null,
            "padding": null,
            "grid_auto_rows": null,
            "grid_gap": null,
            "max_width": null,
            "order": null,
            "_view_module_version": "1.2.0",
            "grid_template_areas": null,
            "object_position": null,
            "object_fit": null,
            "grid_auto_columns": null,
            "margin": null,
            "display": null,
            "left": null
          }
        },
        "b6d07fe65e9648f887dd924bb391db83": {
          "model_module": "@jupyter-widgets/controls",
          "model_name": "DescriptionStyleModel",
          "state": {
            "_view_name": "StyleView",
            "_model_name": "DescriptionStyleModel",
            "description_width": "",
            "_view_module": "@jupyter-widgets/base",
            "_model_module_version": "1.5.0",
            "_view_count": null,
            "_view_module_version": "1.2.0",
            "_model_module": "@jupyter-widgets/controls"
          }
        },
        "823f996438194b158531753e5e1000ff": {
          "model_module": "@jupyter-widgets/base",
          "model_name": "LayoutModel",
          "state": {
            "_view_name": "LayoutView",
            "grid_template_rows": null,
            "right": null,
            "justify_content": null,
            "_view_module": "@jupyter-widgets/base",
            "overflow": null,
            "_model_module_version": "1.2.0",
            "_view_count": null,
            "flex_flow": null,
            "width": null,
            "min_width": null,
            "border": null,
            "align_items": null,
            "bottom": null,
            "_model_module": "@jupyter-widgets/base",
            "top": null,
            "grid_column": null,
            "overflow_y": null,
            "overflow_x": null,
            "grid_auto_flow": null,
            "grid_area": null,
            "grid_template_columns": null,
            "flex": null,
            "_model_name": "LayoutModel",
            "justify_items": null,
            "grid_row": null,
            "max_height": null,
            "align_content": null,
            "visibility": null,
            "align_self": null,
            "height": null,
            "min_height": null,
            "padding": null,
            "grid_auto_rows": null,
            "grid_gap": null,
            "max_width": null,
            "order": null,
            "_view_module_version": "1.2.0",
            "grid_template_areas": null,
            "object_position": null,
            "object_fit": null,
            "grid_auto_columns": null,
            "margin": null,
            "display": null,
            "left": null
          }
        }
      }
    }
  },
  "cells": [
    {
      "cell_type": "markdown",
      "metadata": {
        "id": "view-in-github",
        "colab_type": "text"
      },
      "source": [
        "<a href=\"https://colab.research.google.com/github/anas-awadalla/Incepto/blob/master/interpretability_experiments/Image_High_Res_Interpretability_Attribution_Experiment.ipynb\" target=\"_parent\"><img src=\"https://colab.research.google.com/assets/colab-badge.svg\" alt=\"Open In Colab\"/></a>"
      ]
    },
    {
      "cell_type": "code",
      "metadata": {
        "id": "2mEpZuIDDl3R",
        "colab_type": "code",
        "colab": {}
      },
      "source": [
        "# What I am experimenting with here?\n",
        "# I am using trying multiple pertubation to find what excites the most (Attribution)\n",
        "# Averaging the multiple areas to find the specfic objects the NN is looking for\n",
        "# Comparing that with the OOD Data \n",
        "\n",
        "# Based on Ruth C. Fong, Mandela Patrick and Andrea Vedaldi, Understanding Deep Networks via Extremal Perturbations and Smooth Masks, ICCV 2019"
      ],
      "execution_count": null,
      "outputs": []
    },
    {
      "cell_type": "code",
      "metadata": {
        "id": "TKtMjouhEyx2",
        "colab_type": "code",
        "colab": {
          "base_uri": "https://localhost:8080/",
          "height": 51
        },
        "outputId": "0fbb515f-933b-4730-b5a3-9e653a466ef1"
      },
      "source": [
        "!pip install --quiet torchray"
      ],
      "execution_count": 2,
      "outputs": [
        {
          "output_type": "stream",
          "text": [
            "\u001b[?25l\r\u001b[K     |▉                               | 10kB 28.5MB/s eta 0:00:01\r\u001b[K     |█▊                              | 20kB 3.5MB/s eta 0:00:01\r\u001b[K     |██▋                             | 30kB 4.6MB/s eta 0:00:01\r\u001b[K     |███▌                            | 40kB 4.9MB/s eta 0:00:01\r\u001b[K     |████▍                           | 51kB 4.2MB/s eta 0:00:01\r\u001b[K     |█████▎                          | 61kB 4.9MB/s eta 0:00:01\r\u001b[K     |██████                          | 71kB 5.4MB/s eta 0:00:01\r\u001b[K     |███████                         | 81kB 5.6MB/s eta 0:00:01\r\u001b[K     |███████▉                        | 92kB 6.2MB/s eta 0:00:01\r\u001b[K     |████████▊                       | 102kB 5.5MB/s eta 0:00:01\r\u001b[K     |█████████▋                      | 112kB 5.5MB/s eta 0:00:01\r\u001b[K     |██████████▌                     | 122kB 5.5MB/s eta 0:00:01\r\u001b[K     |███████████▎                    | 133kB 5.5MB/s eta 0:00:01\r\u001b[K     |████████████▏                   | 143kB 5.5MB/s eta 0:00:01\r\u001b[K     |█████████████                   | 153kB 5.5MB/s eta 0:00:01\r\u001b[K     |██████████████                  | 163kB 5.5MB/s eta 0:00:01\r\u001b[K     |██████████████▉                 | 174kB 5.5MB/s eta 0:00:01\r\u001b[K     |███████████████▊                | 184kB 5.5MB/s eta 0:00:01\r\u001b[K     |████████████████▌               | 194kB 5.5MB/s eta 0:00:01\r\u001b[K     |█████████████████▍              | 204kB 5.5MB/s eta 0:00:01\r\u001b[K     |██████████████████▎             | 215kB 5.5MB/s eta 0:00:01\r\u001b[K     |███████████████████▏            | 225kB 5.5MB/s eta 0:00:01\r\u001b[K     |████████████████████            | 235kB 5.5MB/s eta 0:00:01\r\u001b[K     |█████████████████████           | 245kB 5.5MB/s eta 0:00:01\r\u001b[K     |█████████████████████▉          | 256kB 5.5MB/s eta 0:00:01\r\u001b[K     |██████████████████████▋         | 266kB 5.5MB/s eta 0:00:01\r\u001b[K     |███████████████████████▌        | 276kB 5.5MB/s eta 0:00:01\r\u001b[K     |████████████████████████▍       | 286kB 5.5MB/s eta 0:00:01\r\u001b[K     |█████████████████████████▎      | 296kB 5.5MB/s eta 0:00:01\r\u001b[K     |██████████████████████████▏     | 307kB 5.5MB/s eta 0:00:01\r\u001b[K     |███████████████████████████     | 317kB 5.5MB/s eta 0:00:01\r\u001b[K     |███████████████████████████▉    | 327kB 5.5MB/s eta 0:00:01\r\u001b[K     |████████████████████████████▊   | 337kB 5.5MB/s eta 0:00:01\r\u001b[K     |█████████████████████████████▋  | 348kB 5.5MB/s eta 0:00:01\r\u001b[K     |██████████████████████████████▌ | 358kB 5.5MB/s eta 0:00:01\r\u001b[K     |███████████████████████████████▍| 368kB 5.5MB/s eta 0:00:01\r\u001b[K     |████████████████████████████████| 378kB 5.5MB/s \n",
            "\u001b[?25h  Building wheel for torchray (setup.py) ... \u001b[?25l\u001b[?25hdone\n"
          ],
          "name": "stdout"
        }
      ]
    },
    {
      "cell_type": "code",
      "metadata": {
        "id": "0TVNe6Be1oPG",
        "colab_type": "code",
        "colab": {}
      },
      "source": [
        "from torchray.attribution.extremal_perturbation import extremal_perturbation, contrastive_reward\n",
        "from torchray.benchmark import get_example_data, plot_example\n",
        "from torchray.utils import get_device\n",
        "from tqdm.notebook import tqdm\n",
        "import numpy as np\n",
        "import matplotlib.pyplot as plt\n",
        "from sklearn.preprocessing import StandardScaler\n",
        "from sklearn.cluster import KMeans\n",
        "import torchvision\n",
        "from torchvision import transforms\n",
        "from torch.utils.data import Dataset, DataLoader\n",
        "import torch"
      ],
      "execution_count": 3,
      "outputs": []
    },
    {
      "cell_type": "code",
      "metadata": {
        "id": "h8UcwO_4SJdI",
        "colab_type": "code",
        "colab": {}
      },
      "source": [
        "transform=transforms.Compose([\n",
        "            transforms.Resize((224 ,224)),\n",
        "            transforms.ToTensor()])"
      ],
      "execution_count": 10,
      "outputs": []
    },
    {
      "cell_type": "code",
      "metadata": {
        "id": "q9I6_BQ4T7SG",
        "colab_type": "code",
        "colab": {
          "base_uri": "https://localhost:8080/",
          "height": 34
        },
        "outputId": "b6194170-8ab3-4a7e-fd68-9440c66ac431"
      },
      "source": [
        "model = torchvision.models.inception_v3(pretrained=True)\n",
        "\n",
        "\n",
        "data = torchvision.datasets.CIFAR10(\"/content/\", train=False,transform=transform , download=True)\n",
        "\n",
        "dataloader = DataLoader(data, batch_size=1,\n",
        "                        shuffle=True, num_workers=0)"
      ],
      "execution_count": 175,
      "outputs": [
        {
          "output_type": "stream",
          "text": [
            "Files already downloaded and verified\n"
          ],
          "name": "stdout"
        }
      ]
    },
    {
      "cell_type": "code",
      "metadata": {
        "id": "OzN9WoBWjrkD",
        "colab_type": "code",
        "colab": {}
      },
      "source": [
        "trans = transforms.Compose([\n",
        "            transforms.ToPILImage(),\n",
        "            transforms.Resize((224,224)),\n",
        "            transforms.Grayscale(num_output_channels=1),\n",
        "            transforms.ToTensor()])\n",
        "\n",
        "trans_color = transforms.Compose([\n",
        "            transforms.ToPILImage(),\n",
        "            transforms.Resize((224,224)),\n",
        "            transforms.ToTensor()])"
      ],
      "execution_count": 61,
      "outputs": []
    },
    {
      "cell_type": "markdown",
      "metadata": {
        "id": "IGi_Pbr7h3J2",
        "colab_type": "text"
      },
      "source": [
        "## Generate Masks"
      ]
    },
    {
      "cell_type": "markdown",
      "metadata": {
        "id": "xqn0ZeWH0oQi",
        "colab_type": "text"
      },
      "source": [
        "Image Segmentation"
      ]
    },
    {
      "cell_type": "code",
      "metadata": {
        "id": "wgK4sByg0rXo",
        "colab_type": "code",
        "colab": {}
      },
      "source": [
        "import cv2\n",
        "\n",
        "def remove_background():\n",
        "    #== Parameters =======================================================================\n",
        "    BLUR = 5\n",
        "    CANNY_THRESH_1 = 10\n",
        "    CANNY_THRESH_2 = 10\n",
        "    MASK_DILATE_ITER = 20\n",
        "    MASK_ERODE_ITER = 20\n",
        "    MASK_COLOR = (0.0,0.0,0.0) # In BGR format\n",
        "\n",
        "    #== Processing =======================================================================\n",
        "    img = cv2.imread(\"img1.png\")\n",
        "    img = cv2.resize(img, (224,224), interpolation = cv2.INTER_AREA)\n",
        "\n",
        "    #-- Read image -----------------------------------------------------------------------\n",
        "    gray = cv2.cvtColor(img,cv2.COLOR_BGR2GRAY)\n",
        "\n",
        "    #-- Edge detection -------------------------------------------------------------------\n",
        "    edges = cv2.Canny(gray, CANNY_THRESH_1, CANNY_THRESH_2)\n",
        "    edges = cv2.dilate(edges, None)\n",
        "    edges = cv2.erode(edges, None)\n",
        "\n",
        "    #-- Find contours in edges, sort by area ---------------------------------------------\n",
        "    contour_info = []\n",
        "    contours, _ = cv2.findContours(edges, cv2.RETR_LIST, cv2.CHAIN_APPROX_NONE)\n",
        "\n",
        "    for c in contours:\n",
        "        contour_info.append((\n",
        "            c,\n",
        "            cv2.isContourConvex(c),\n",
        "            cv2.contourArea(c),\n",
        "        ))\n",
        "    contour_info = sorted(contour_info, key=lambda c: c[2], reverse=True)\n",
        "\n",
        "\n",
        "    #-- Create empty mask, draw filled polygon on it corresponding to largest contour ----\n",
        "    # Mask is black, polygon is white\n",
        "    mask = np.zeros(edges.shape)\n",
        "    for c in contour_info:\n",
        "        cv2.fillConvexPoly(mask, c[0], (255))\n",
        "    # cv2.fillConvexPoly(mask, max_contour[0], (255))\n",
        "\n",
        "    #-- Smooth mask, then blur it --------------------------------------------------------\n",
        "    mask = cv2.dilate(mask, None, iterations=MASK_DILATE_ITER)\n",
        "    mask = cv2.erode(mask, None, iterations=MASK_ERODE_ITER)\n",
        "    mask = cv2.GaussianBlur(mask, (BLUR, BLUR), 0)\n",
        "    mask_stack = np.dstack([mask]*3)    # Create 3-channel alpha mask\n",
        "\n",
        "    #-- Blend masked img into MASK_COLOR background --------------------------------------\n",
        "    mask_stack  = mask_stack.astype('float32') / 255.0          # Use float matrices, \n",
        "    img         = img.astype('float32') / 255.0                 #  for easy blending\n",
        "\n",
        "    masked = (mask_stack * img) + ((1 - mask_stack) * MASK_COLOR) # Blend\n",
        "    masked = (masked * 255).astype('uint8')                     # Convert back to 8-bit \n",
        "    cv2.imwrite('img.png', masked)\n",
        "    return masked"
      ],
      "execution_count": 204,
      "outputs": []
    },
    {
      "cell_type": "code",
      "metadata": {
        "id": "lx089G1hW0tS",
        "colab_type": "code",
        "colab": {}
      },
      "source": [
        "remove_background()"
      ],
      "execution_count": null,
      "outputs": []
    },
    {
      "cell_type": "code",
      "metadata": {
        "id": "4PKxZyADEO1u",
        "colab_type": "code",
        "colab": {}
      },
      "source": [
        "from torchvision.utils import save_image\n",
        "\n",
        "results = []\n",
        "device = get_device()\n",
        "model.to(device).eval()\n",
        "area = 0.1\n",
        "\n",
        "for x,y in tqdm(dataloader):\n",
        "  \n",
        "  x = x.to(device)\n",
        "  if y.item() == 5:\n",
        "    # Extremal perturbation\n",
        "    masks_1,_ = extremal_perturbation(\n",
        "        model, x, y.item(),\n",
        "        reward_func=contrastive_reward,\n",
        "        perturbation=\"blur\",\n",
        "        debug=False,\n",
        "        areas=[area],\n",
        "        smooth=0.01,\n",
        "        max_iter=800\n",
        "    )\n",
        "\n",
        "    ## Crop Important Area\n",
        "    dat=torch.round(masks_1)[0].cpu().detach().numpy() # 'sharpen' mask\n",
        "    true_points = np.argwhere(dat)\n",
        "    if len(true_points) != 0:\n",
        "      # take the smallest points and use them as the top left of your crop\n",
        "      top_left = true_points.min(axis=0)\n",
        "      # take the largest points and use them as the bottom right of your crop\n",
        "      bottom_right = true_points.max(axis=0)\n",
        "      x = x.squeeze()\n",
        "      save_image(x, 'org.png')\n",
        "      out = x[:,top_left[1]:bottom_right[1], \n",
        "                top_left[2]:bottom_right[2]]\n",
        "      out =  torch.tensor(out, dtype=torch.float)\n",
        "      save_image(out, 'img1.png')\n",
        "      out = remove_background()\n",
        "      out = cv2.Canny(out,10,90)\n",
        "\n",
        "      results.append(torch.tensor(out, dtype=torch.float))\n",
        "     "
      ],
      "execution_count": null,
      "outputs": []
    },
    {
      "cell_type": "markdown",
      "metadata": {
        "id": "AqOzH2eOh6CI",
        "colab_type": "text"
      },
      "source": [
        "Get Representations for Clustering"
      ]
    },
    {
      "cell_type": "code",
      "metadata": {
        "id": "xPpUbK1uXAys",
        "colab_type": "code",
        "colab": {
          "base_uri": "https://localhost:8080/",
          "height": 66,
          "referenced_widgets": [
            "2700ce43c3744fb6b368361f4801ab16",
            "90c369a3dd7442e88fb5ea471103049e",
            "4d806af0e6684550875745671518c6fd",
            "4b781edcf5504babad12659f940f375e",
            "502080d8080d41d0bfd282fca049dc98",
            "40825bf735644c808d695d6d470fd5eb",
            "b6d07fe65e9648f887dd924bb391db83",
            "823f996438194b158531753e5e1000ff"
          ]
        },
        "outputId": "21f1d7dc-de7d-43d9-843f-7ff08b62dd7f"
      },
      "source": [
        "color = []\n",
        "for i in tqdm(range(len(results))):\n",
        "  color.append(trans_color(results[i]).cpu().detach().numpy())\n",
        "  results[i] = torch.flatten(trans(results[i]), start_dim=1).cpu().detach().numpy()\n",
        "\n",
        "X1 = torch.flatten(torch.tensor(results), start_dim=1).cpu().detach().numpy()"
      ],
      "execution_count": 290,
      "outputs": [
        {
          "output_type": "display_data",
          "data": {
            "application/vnd.jupyter.widget-view+json": {
              "model_id": "2700ce43c3744fb6b368361f4801ab16",
              "version_minor": 0,
              "version_major": 2
            },
            "text/plain": [
              "HBox(children=(FloatProgress(value=0.0, max=16.0), HTML(value='')))"
            ]
          },
          "metadata": {
            "tags": []
          }
        },
        {
          "output_type": "stream",
          "text": [
            "\n"
          ],
          "name": "stdout"
        }
      ]
    },
    {
      "cell_type": "code",
      "metadata": {
        "id": "kMKYkswEXnax",
        "colab_type": "code",
        "colab": {
          "base_uri": "https://localhost:8080/",
          "height": 34
        },
        "outputId": "a5b51929-e1b1-4535-b92e-5f3c305cd9ac"
      },
      "source": [
        "#Sanity check\n",
        "X = X1\n",
        "print (\"The shape of X is \" + str(X.shape))"
      ],
      "execution_count": 291,
      "outputs": [
        {
          "output_type": "stream",
          "text": [
            "The shape of X is (16, 50176)\n"
          ],
          "name": "stdout"
        }
      ]
    },
    {
      "cell_type": "code",
      "metadata": {
        "id": "5WZsupZTXsvb",
        "colab_type": "code",
        "colab": {}
      },
      "source": [
        "# To perform PCA we must first change the mean to 0 and variance to 1 for X using StandardScalar\n",
        "Clus_dataSet = StandardScaler().fit_transform(X) #(mean = 0 and variance = 1)"
      ],
      "execution_count": 292,
      "outputs": []
    },
    {
      "cell_type": "code",
      "metadata": {
        "id": "6CSBfcK3Xu7n",
        "colab_type": "code",
        "colab": {}
      },
      "source": [
        "from sklearn.decomposition import PCA\n",
        "# Make an instance of the Model\n",
        "variance = 2\n",
        "pca = PCA(variance)"
      ],
      "execution_count": 293,
      "outputs": []
    },
    {
      "cell_type": "code",
      "metadata": {
        "id": "YfxqXgu1XwyE",
        "colab_type": "code",
        "colab": {
          "base_uri": "https://localhost:8080/",
          "height": 51
        },
        "outputId": "d817652f-3c55-48e5-c370-b7ae91e543a7"
      },
      "source": [
        "#fit the data according to our PCA instance\n",
        "pca.fit(Clus_dataSet)"
      ],
      "execution_count": 294,
      "outputs": [
        {
          "output_type": "execute_result",
          "data": {
            "text/plain": [
              "PCA(copy=True, iterated_power='auto', n_components=2, random_state=None,\n",
              "    svd_solver='auto', tol=0.0, whiten=False)"
            ]
          },
          "metadata": {
            "tags": []
          },
          "execution_count": 294
        }
      ]
    },
    {
      "cell_type": "code",
      "metadata": {
        "id": "7fCBNKDiXz1h",
        "colab_type": "code",
        "colab": {
          "base_uri": "https://localhost:8080/",
          "height": 51
        },
        "outputId": "3764c838-cf6f-4e25-e88b-0722f9b66df4"
      },
      "source": [
        "print(\"Number of components before PCA  = \" + str(X.shape[1]))\n",
        "print(\"Number of components after PCA 0.98 = \" + str(pca.n_components_))"
      ],
      "execution_count": 295,
      "outputs": [
        {
          "output_type": "stream",
          "text": [
            "Number of components before PCA  = 50176\n",
            "Number of components after PCA 0.98 = 2\n"
          ],
          "name": "stdout"
        }
      ]
    },
    {
      "cell_type": "code",
      "metadata": {
        "id": "mQRPU6hyX4QD",
        "colab_type": "code",
        "colab": {}
      },
      "source": [
        "#Transform our data according to our PCA instance\n",
        "Clus_dataSet = pca.transform(Clus_dataSet)"
      ],
      "execution_count": 213,
      "outputs": []
    },
    {
      "cell_type": "code",
      "metadata": {
        "id": "Hl98NNupX7AP",
        "colab_type": "code",
        "colab": {
          "base_uri": "https://localhost:8080/",
          "height": 34
        },
        "outputId": "e0131fae-e955-4003-ef23-a918271b2b1a"
      },
      "source": [
        "print(\"Dimension of our data after PCA  = \" + str(Clus_dataSet.shape))"
      ],
      "execution_count": 214,
      "outputs": [
        {
          "output_type": "stream",
          "text": [
            "Dimension of our data after PCA  = (55, 2)\n"
          ],
          "name": "stdout"
        }
      ]
    },
    {
      "cell_type": "code",
      "metadata": {
        "id": "zCENzqJkX8VX",
        "colab_type": "code",
        "colab": {}
      },
      "source": [
        "#To visualise the data inversed from PCA\n",
        "approximation = pca.inverse_transform(Clus_dataSet)\n",
        "print(\"Dimension of our data after inverse transforming the PCA  = \" + str(approximation.shape))"
      ],
      "execution_count": null,
      "outputs": []
    },
    {
      "cell_type": "code",
      "metadata": {
        "id": "tZWbnUCG4hk4",
        "colab_type": "code",
        "colab": {}
      },
      "source": [
        "from sklearn.metrics import silhouette_score\n",
        "\n",
        "sil = []\n",
        "\n",
        "ideal = None\n",
        "max = float('-inf')\n",
        "x = Clus_dataSet\n",
        "\n",
        "for k in range(2,3):\n",
        "  kmeans = KMeans(init = \"k-means++\",n_clusters = k, n_init = 35, max_iter=1000).fit(x)\n",
        "  labels = kmeans.labels_\n",
        "  score = silhouette_score(x, labels, metric = 'euclidean')\n",
        "  if(score > max):\n",
        "    max = score\n",
        "    ideal = kmeans"
      ],
      "execution_count": 297,
      "outputs": []
    },
    {
      "cell_type": "code",
      "metadata": {
        "id": "RpXERkVc49bg",
        "colab_type": "code",
        "colab": {
          "base_uri": "https://localhost:8080/",
          "height": 68
        },
        "outputId": "ac9a13b0-e9b3-45c3-aba5-855662d2a2ff"
      },
      "source": [
        "k_means = ideal\n",
        "print(k_means)"
      ],
      "execution_count": 298,
      "outputs": [
        {
          "output_type": "stream",
          "text": [
            "KMeans(algorithm='auto', copy_x=True, init='k-means++', max_iter=1000,\n",
            "       n_clusters=2, n_init=35, n_jobs=None, precompute_distances='auto',\n",
            "       random_state=None, tol=0.0001, verbose=0)\n"
          ],
          "name": "stdout"
        }
      ]
    },
    {
      "cell_type": "code",
      "metadata": {
        "id": "3FjbKv0ZYrQX",
        "colab_type": "code",
        "colab": {
          "base_uri": "https://localhost:8080/",
          "height": 34
        },
        "outputId": "515eb580-5260-4483-e74a-95d2b64d3f10"
      },
      "source": [
        "k_means_labels = k_means.labels_ #List of labels of each dataset\n",
        "print(\"The list of labels of the clusters are \" + str(np.unique(k_means_labels)))"
      ],
      "execution_count": 299,
      "outputs": [
        {
          "output_type": "stream",
          "text": [
            "The list of labels of the clusters are [0 1]\n"
          ],
          "name": "stdout"
        }
      ]
    },
    {
      "cell_type": "code",
      "metadata": {
        "id": "FGFwtk0kmb6i",
        "colab_type": "code",
        "colab": {
          "base_uri": "https://localhost:8080/",
          "height": 34
        },
        "outputId": "f112899b-b335-47fd-a20e-abfb27d23833"
      },
      "source": [
        "k_means_cluster_centers = k_means.cluster_centers_ #numpy array of cluster centers\n",
        "k_means_cluster_centers.shape #comes from 10 clusters and 420 features"
      ],
      "execution_count": 300,
      "outputs": [
        {
          "output_type": "execute_result",
          "data": {
            "text/plain": [
              "(2, 50176)"
            ]
          },
          "metadata": {
            "tags": []
          },
          "execution_count": 300
        }
      ]
    },
    {
      "cell_type": "code",
      "metadata": {
        "id": "bWsYj7NTm-zj",
        "colab_type": "code",
        "colab": {
          "base_uri": "https://localhost:8080/",
          "height": 34
        },
        "outputId": "66732778-76d0-4f4c-a29c-ec8cf5ac0bac"
      },
      "source": [
        "k_means.labels_"
      ],
      "execution_count": 301,
      "outputs": [
        {
          "output_type": "execute_result",
          "data": {
            "text/plain": [
              "array([0, 0, 0, 0, 0, 0, 0, 0, 0, 0, 0, 1, 0, 0, 0, 0], dtype=int32)"
            ]
          },
          "metadata": {
            "tags": []
          },
          "execution_count": 301
        }
      ]
    },
    {
      "cell_type": "code",
      "metadata": {
        "id": "6zBu6XY6o0ps",
        "colab_type": "code",
        "colab": {}
      },
      "source": [
        "#Find average \"image\" for each cluster\n",
        "clusters = {}\n",
        "for i,j in zip(k_means.labels_,color) :\n",
        "  if i in clusters.keys():\n",
        "    clusters.get(i).append(j)\n",
        "    # clusters.update({i:clusters.get(i).append(j)})\n",
        "  else:\n",
        "    clusters.update({i:[j]})"
      ],
      "execution_count": 302,
      "outputs": []
    },
    {
      "cell_type": "markdown",
      "metadata": {
        "id": "I9rgN7BLhHE0",
        "colab_type": "text"
      },
      "source": [
        "## Use Chi^2 Similarity for Comparisons"
      ]
    },
    {
      "cell_type": "code",
      "metadata": {
        "id": "AzQPpeV9FWko",
        "colab_type": "code",
        "colab": {}
      },
      "source": [
        "import cv2\n",
        "\n",
        "def get_similar(arr):\n",
        "  chosen = arr[0]\n",
        "  x = {}\n",
        "  for i in range(len(arr)):\n",
        "    x.update({i: cv2.compareHist(np.array(chosen, dtype=np.float32), np.array(arr[i], dtype=np.float32), 2)})\n",
        "  x = {k: v for k, v in sorted(x.items(), key=lambda item: item[1])}\n",
        "  return (x.keys())\n",
        "    \n"
      ],
      "execution_count": 303,
      "outputs": []
    },
    {
      "cell_type": "code",
      "metadata": {
        "id": "kn-FN2jnJQwr",
        "colab_type": "code",
        "colab": {}
      },
      "source": [
        "def choose_sim(arr,target,ratio):\n",
        "  threshold = int(len(arr)*ratio)\n",
        "  arr = arr[threshold:]\n",
        "  result = []\n",
        "  for i in range(len(target)):\n",
        "    if(i in arr):\n",
        "      result.append(target[i])\n",
        "    \n",
        "  return result"
      ],
      "execution_count": 304,
      "outputs": []
    },
    {
      "cell_type": "markdown",
      "metadata": {
        "id": "dxs1872IhOrJ",
        "colab_type": "text"
      },
      "source": [
        "## Use Highest Activation"
      ]
    },
    {
      "cell_type": "code",
      "metadata": {
        "id": "4f2bb45JwpG2",
        "colab_type": "code",
        "colab": {}
      },
      "source": [
        ""
      ],
      "execution_count": null,
      "outputs": []
    },
    {
      "cell_type": "markdown",
      "metadata": {
        "id": "UY-Aom14hcsP",
        "colab_type": "text"
      },
      "source": [
        "## Find visualization by individual pixel comparisons"
      ]
    },
    {
      "cell_type": "code",
      "metadata": {
        "id": "jSb4PsW0kU8E",
        "colab_type": "code",
        "colab": {}
      },
      "source": [
        "def get_representation(arr):\n",
        "  li = []\n",
        "  for i in range(224):\n",
        "    li.append([])\n",
        "    for j in range(224):\n",
        "      dist = {0:0,1:0}\n",
        "      for img in arr:\n",
        "        pixel = img[0][i][j]\n",
        "        if pixel > 0:\n",
        "          pixel = 1\n",
        "        else:\n",
        "          pixel = 0\n",
        "        dist.update({pixel:dist.get(pixel)+1})\n",
        "      if(dist.get(0)>dist.get(1)):\n",
        "        li[i].append(0)\n",
        "      else:\n",
        "        li[i].append(1)\n",
        "  return li\n",
        "\n"
      ],
      "execution_count": 349,
      "outputs": []
    },
    {
      "cell_type": "markdown",
      "metadata": {
        "id": "AGIIcsQHhRqo",
        "colab_type": "text"
      },
      "source": [
        "## Visualize Results"
      ]
    },
    {
      "cell_type": "code",
      "metadata": {
        "id": "t0UWViWz91Kq",
        "colab_type": "code",
        "colab": {
          "base_uri": "https://localhost:8080/",
          "height": 583
        },
        "outputId": "69d1a819-4433-4c88-c84d-6bad0e0868e6"
      },
      "source": [
        "import matplotlib.pyplot as plt\n",
        "from scipy import ndimage\n",
        "import cv2\n",
        "\n",
        "i = 0\n",
        "for key in clusters.keys():\n",
        "  fig = plt.figure(figsize=(40,40))    \n",
        "  ax = fig.add_subplot(8, 8, i + 1)\n",
        "  arr = get_similar(clusters.get(key))\n",
        "  arr = choose_sim(list(arr),clusters.get(key),0.9)\n",
        "  arr = get_representation(arr)\n",
        "  print(len(arr),len(arr[0]))\n",
        "  img = np.asarray(torch.tensor(arr).cpu().squeeze().detach().numpy() )\n",
        "  filter_blurred_f = ndimage.gaussian_filter(img, 1)\n",
        "  alpha = 4\n",
        "  sharpened = img + alpha * (img - filter_blurred_f)\n",
        "  ax.imshow(sharpened)\n",
        "  i += 1\n",
        "plt.show()\n"
      ],
      "execution_count": 353,
      "outputs": [
        {
          "output_type": "stream",
          "text": [
            "224 224\n",
            "224 224\n"
          ],
          "name": "stdout"
        },
        {
          "output_type": "display_data",
          "data": {
            "image/png": "[encoded data removed]",
            "text/plain": [
              "<Figure size 2880x2880 with 1 Axes>"
            ]
          },
          "metadata": {
            "tags": [],
            "needs_background": "light"
          }
        },
        {
          "output_type": "display_data",
          "data": {
            "image/png": "[encoded data removed]",
            "text/plain": [
              "<Figure size 2880x2880 with 1 Axes>"
            ]
          },
          "metadata": {
            "tags": [],
            "needs_background": "light"
          }
        }
      ]
    },
    {
      "cell_type": "markdown",
      "metadata": {
        "id": "9uGqMLUJ-Nqp",
        "colab_type": "text"
      },
      "source": [
        "## Compare Texture"
      ]
    },
    {
      "cell_type": "code",
      "metadata": {
        "id": "yBZxy_1k-UwS",
        "colab_type": "code",
        "colab": {}
      },
      "source": [
        "def compare_texture(src,img):\n",
        "  return cv2.compareHist(np.array(src, dtype=np.float32), np.array(img, dtype=np.float32), 2)"
      ],
      "execution_count": null,
      "outputs": []
    },
    {
      "cell_type": "markdown",
      "metadata": {
        "id": "f11483KTVpsw",
        "colab_type": "text"
      },
      "source": [
        "## Single Image High Resolution"
      ]
    },
    {
      "cell_type": "code",
      "metadata": {
        "id": "RJuM6igfVu3r",
        "colab_type": "code",
        "colab": {
          "base_uri": "https://localhost:8080/",
          "height": 34
        },
        "outputId": "9514b860-fcaa-4d32-ec5c-05f37e65c7cb"
      },
      "source": [
        "!git clone https://github.com/krasserm/super-resolution.git"
      ],
      "execution_count": 235,
      "outputs": [
        {
          "output_type": "stream",
          "text": [
            "fatal: destination path 'super-resolution' already exists and is not an empty directory.\n"
          ],
          "name": "stdout"
        }
      ]
    },
    {
      "cell_type": "code",
      "metadata": {
        "id": "EAkIplfhey4Y",
        "colab_type": "code",
        "colab": {}
      },
      "source": [
        "!cp -r super-resolution/model/ /content/\n",
        "!cp super-resolution/common.py /content/\n",
        "!cp super-resolution/utils.py /content/"
      ],
      "execution_count": 236,
      "outputs": []
    },
    {
      "cell_type": "code",
      "metadata": {
        "id": "RCdy-gGyV3ZL",
        "colab_type": "code",
        "colab": {}
      },
      "source": [
        "from model.srgan import generator\n",
        "from utils import load_image, plot_sample\n",
        "from common import resolve_single\n",
        "\n",
        "model_hr = generator()\n",
        "model_hr.load_weights('/content/drive/My Drive/Interpretability Experiments/srgan_weights/srgan/gan_generator.h5')\n",
        "\n",
        "lr = load_image('org.png')[:,:,:3]\n",
        "sr = resolve_single(model_hr, lr)\n",
        "\n",
        "plot_sample(lr, sr)\n"
      ],
      "execution_count": null,
      "outputs": []
    }
  ]
}