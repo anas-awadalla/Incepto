{
  "nbformat": 4,
  "nbformat_minor": 0,
  "metadata": {
    "colab": {
      "name": "Resnet 18 FAISS - Product quantization.ipynb",
      "provenance": [],
      "include_colab_link": true
    },
    "kernelspec": {
      "name": "python3",
      "display_name": "Python 3"
    },
    "accelerator": "GPU",
    "widgets": {
      "application/vnd.jupyter.widget-state+json": {
        "39bd35fb99fe41849c27eaaac0017090": {
          "model_module": "@jupyter-widgets/controls",
          "model_name": "HBoxModel",
          "state": {
            "_view_name": "HBoxView",
            "_dom_classes": [],
            "_model_name": "HBoxModel",
            "_view_module": "@jupyter-widgets/controls",
            "_model_module_version": "1.5.0",
            "_view_count": null,
            "_view_module_version": "1.5.0",
            "box_style": "",
            "layout": "IPY_MODEL_052f714eb5c44ed78468269f9458ef05",
            "_model_module": "@jupyter-widgets/controls",
            "children": [
              "IPY_MODEL_f5aa46e54d2a48c0909c5bafc5160b83",
              "IPY_MODEL_9453ce91af5e4d8db11f4e77c15407c5"
            ]
          }
        },
        "052f714eb5c44ed78468269f9458ef05": {
          "model_module": "@jupyter-widgets/base",
          "model_name": "LayoutModel",
          "state": {
            "_view_name": "LayoutView",
            "grid_template_rows": null,
            "right": null,
            "justify_content": null,
            "_view_module": "@jupyter-widgets/base",
            "overflow": null,
            "_model_module_version": "1.2.0",
            "_view_count": null,
            "flex_flow": null,
            "width": null,
            "min_width": null,
            "border": null,
            "align_items": null,
            "bottom": null,
            "_model_module": "@jupyter-widgets/base",
            "top": null,
            "grid_column": null,
            "overflow_y": null,
            "overflow_x": null,
            "grid_auto_flow": null,
            "grid_area": null,
            "grid_template_columns": null,
            "flex": null,
            "_model_name": "LayoutModel",
            "justify_items": null,
            "grid_row": null,
            "max_height": null,
            "align_content": null,
            "visibility": null,
            "align_self": null,
            "height": null,
            "min_height": null,
            "padding": null,
            "grid_auto_rows": null,
            "grid_gap": null,
            "max_width": null,
            "order": null,
            "_view_module_version": "1.2.0",
            "grid_template_areas": null,
            "object_position": null,
            "object_fit": null,
            "grid_auto_columns": null,
            "margin": null,
            "display": null,
            "left": null
          }
        },
        "f5aa46e54d2a48c0909c5bafc5160b83": {
          "model_module": "@jupyter-widgets/controls",
          "model_name": "FloatProgressModel",
          "state": {
            "_view_name": "ProgressView",
            "style": "IPY_MODEL_8ae012389be241b9a010ae5cddb18e6a",
            "_dom_classes": [],
            "description": "100%",
            "_model_name": "FloatProgressModel",
            "bar_style": "success",
            "max": 10000,
            "_view_module": "@jupyter-widgets/controls",
            "_model_module_version": "1.5.0",
            "value": 10000,
            "_view_count": null,
            "_view_module_version": "1.5.0",
            "orientation": "horizontal",
            "min": 0,
            "description_tooltip": null,
            "_model_module": "@jupyter-widgets/controls",
            "layout": "IPY_MODEL_a5d3c3fa26064b8ca645d418897b33d4"
          }
        },
        "9453ce91af5e4d8db11f4e77c15407c5": {
          "model_module": "@jupyter-widgets/controls",
          "model_name": "HTMLModel",
          "state": {
            "_view_name": "HTMLView",
            "style": "IPY_MODEL_d7f121987bc048568aa78126fe8a4be5",
            "_dom_classes": [],
            "description": "",
            "_model_name": "HTMLModel",
            "placeholder": "​",
            "_view_module": "@jupyter-widgets/controls",
            "_model_module_version": "1.5.0",
            "value": " 10000/10000 [00:37&lt;00:00, 265.68it/s]",
            "_view_count": null,
            "_view_module_version": "1.5.0",
            "description_tooltip": null,
            "_model_module": "@jupyter-widgets/controls",
            "layout": "IPY_MODEL_cd82968a73214222bd22a29cdf44dbf2"
          }
        },
        "8ae012389be241b9a010ae5cddb18e6a": {
          "model_module": "@jupyter-widgets/controls",
          "model_name": "ProgressStyleModel",
          "state": {
            "_view_name": "StyleView",
            "_model_name": "ProgressStyleModel",
            "description_width": "initial",
            "_view_module": "@jupyter-widgets/base",
            "_model_module_version": "1.5.0",
            "_view_count": null,
            "_view_module_version": "1.2.0",
            "bar_color": null,
            "_model_module": "@jupyter-widgets/controls"
          }
        },
        "a5d3c3fa26064b8ca645d418897b33d4": {
          "model_module": "@jupyter-widgets/base",
          "model_name": "LayoutModel",
          "state": {
            "_view_name": "LayoutView",
            "grid_template_rows": null,
            "right": null,
            "justify_content": null,
            "_view_module": "@jupyter-widgets/base",
            "overflow": null,
            "_model_module_version": "1.2.0",
            "_view_count": null,
            "flex_flow": null,
            "width": null,
            "min_width": null,
            "border": null,
            "align_items": null,
            "bottom": null,
            "_model_module": "@jupyter-widgets/base",
            "top": null,
            "grid_column": null,
            "overflow_y": null,
            "overflow_x": null,
            "grid_auto_flow": null,
            "grid_area": null,
            "grid_template_columns": null,
            "flex": null,
            "_model_name": "LayoutModel",
            "justify_items": null,
            "grid_row": null,
            "max_height": null,
            "align_content": null,
            "visibility": null,
            "align_self": null,
            "height": null,
            "min_height": null,
            "padding": null,
            "grid_auto_rows": null,
            "grid_gap": null,
            "max_width": null,
            "order": null,
            "_view_module_version": "1.2.0",
            "grid_template_areas": null,
            "object_position": null,
            "object_fit": null,
            "grid_auto_columns": null,
            "margin": null,
            "display": null,
            "left": null
          }
        },
        "d7f121987bc048568aa78126fe8a4be5": {
          "model_module": "@jupyter-widgets/controls",
          "model_name": "DescriptionStyleModel",
          "state": {
            "_view_name": "StyleView",
            "_model_name": "DescriptionStyleModel",
            "description_width": "",
            "_view_module": "@jupyter-widgets/base",
            "_model_module_version": "1.5.0",
            "_view_count": null,
            "_view_module_version": "1.2.0",
            "_model_module": "@jupyter-widgets/controls"
          }
        },
        "cd82968a73214222bd22a29cdf44dbf2": {
          "model_module": "@jupyter-widgets/base",
          "model_name": "LayoutModel",
          "state": {
            "_view_name": "LayoutView",
            "grid_template_rows": null,
            "right": null,
            "justify_content": null,
            "_view_module": "@jupyter-widgets/base",
            "overflow": null,
            "_model_module_version": "1.2.0",
            "_view_count": null,
            "flex_flow": null,
            "width": null,
            "min_width": null,
            "border": null,
            "align_items": null,
            "bottom": null,
            "_model_module": "@jupyter-widgets/base",
            "top": null,
            "grid_column": null,
            "overflow_y": null,
            "overflow_x": null,
            "grid_auto_flow": null,
            "grid_area": null,
            "grid_template_columns": null,
            "flex": null,
            "_model_name": "LayoutModel",
            "justify_items": null,
            "grid_row": null,
            "max_height": null,
            "align_content": null,
            "visibility": null,
            "align_self": null,
            "height": null,
            "min_height": null,
            "padding": null,
            "grid_auto_rows": null,
            "grid_gap": null,
            "max_width": null,
            "order": null,
            "_view_module_version": "1.2.0",
            "grid_template_areas": null,
            "object_position": null,
            "object_fit": null,
            "grid_auto_columns": null,
            "margin": null,
            "display": null,
            "left": null
          }
        },
        "c6f4ec40975e4183ae460cb2a70e8e4f": {
          "model_module": "@jupyter-widgets/controls",
          "model_name": "HBoxModel",
          "state": {
            "_view_name": "HBoxView",
            "_dom_classes": [],
            "_model_name": "HBoxModel",
            "_view_module": "@jupyter-widgets/controls",
            "_model_module_version": "1.5.0",
            "_view_count": null,
            "_view_module_version": "1.5.0",
            "box_style": "",
            "layout": "IPY_MODEL_96758e43869a40fcb1bb8efb65ef9e9b",
            "_model_module": "@jupyter-widgets/controls",
            "children": [
              "IPY_MODEL_223be3fda48a46afbbc86e8f6c31ba9f",
              "IPY_MODEL_6c84e648fefe42c79cb8614eee570b6a"
            ]
          }
        },
        "96758e43869a40fcb1bb8efb65ef9e9b": {
          "model_module": "@jupyter-widgets/base",
          "model_name": "LayoutModel",
          "state": {
            "_view_name": "LayoutView",
            "grid_template_rows": null,
            "right": null,
            "justify_content": null,
            "_view_module": "@jupyter-widgets/base",
            "overflow": null,
            "_model_module_version": "1.2.0",
            "_view_count": null,
            "flex_flow": null,
            "width": null,
            "min_width": null,
            "border": null,
            "align_items": null,
            "bottom": null,
            "_model_module": "@jupyter-widgets/base",
            "top": null,
            "grid_column": null,
            "overflow_y": null,
            "overflow_x": null,
            "grid_auto_flow": null,
            "grid_area": null,
            "grid_template_columns": null,
            "flex": null,
            "_model_name": "LayoutModel",
            "justify_items": null,
            "grid_row": null,
            "max_height": null,
            "align_content": null,
            "visibility": null,
            "align_self": null,
            "height": null,
            "min_height": null,
            "padding": null,
            "grid_auto_rows": null,
            "grid_gap": null,
            "max_width": null,
            "order": null,
            "_view_module_version": "1.2.0",
            "grid_template_areas": null,
            "object_position": null,
            "object_fit": null,
            "grid_auto_columns": null,
            "margin": null,
            "display": null,
            "left": null
          }
        },
        "223be3fda48a46afbbc86e8f6c31ba9f": {
          "model_module": "@jupyter-widgets/controls",
          "model_name": "FloatProgressModel",
          "state": {
            "_view_name": "ProgressView",
            "style": "IPY_MODEL_76617780e21b44fc8e9c8758bff6c375",
            "_dom_classes": [],
            "description": "",
            "_model_name": "FloatProgressModel",
            "bar_style": "danger",
            "max": 1,
            "_view_module": "@jupyter-widgets/controls",
            "_model_module_version": "1.5.0",
            "value": 1,
            "_view_count": null,
            "_view_module_version": "1.5.0",
            "orientation": "horizontal",
            "min": 0,
            "description_tooltip": null,
            "_model_module": "@jupyter-widgets/controls",
            "layout": "IPY_MODEL_20ec8b0948b74b6699069d9777443ef5"
          }
        },
        "6c84e648fefe42c79cb8614eee570b6a": {
          "model_module": "@jupyter-widgets/controls",
          "model_name": "HTMLModel",
          "state": {
            "_view_name": "HTMLView",
            "style": "IPY_MODEL_ea2acb576baa45cb86144aab5caa1e78",
            "_dom_classes": [],
            "description": "",
            "_model_name": "HTMLModel",
            "placeholder": "​",
            "_view_module": "@jupyter-widgets/controls",
            "_model_module_version": "1.5.0",
            "value": " 10/? [00:15&lt;00:00,  1.49s/it]",
            "_view_count": null,
            "_view_module_version": "1.5.0",
            "description_tooltip": null,
            "_model_module": "@jupyter-widgets/controls",
            "layout": "IPY_MODEL_34f6d35dc5084163abd4f70030e57963"
          }
        },
        "76617780e21b44fc8e9c8758bff6c375": {
          "model_module": "@jupyter-widgets/controls",
          "model_name": "ProgressStyleModel",
          "state": {
            "_view_name": "StyleView",
            "_model_name": "ProgressStyleModel",
            "description_width": "initial",
            "_view_module": "@jupyter-widgets/base",
            "_model_module_version": "1.5.0",
            "_view_count": null,
            "_view_module_version": "1.2.0",
            "bar_color": null,
            "_model_module": "@jupyter-widgets/controls"
          }
        },
        "20ec8b0948b74b6699069d9777443ef5": {
          "model_module": "@jupyter-widgets/base",
          "model_name": "LayoutModel",
          "state": {
            "_view_name": "LayoutView",
            "grid_template_rows": null,
            "right": null,
            "justify_content": null,
            "_view_module": "@jupyter-widgets/base",
            "overflow": null,
            "_model_module_version": "1.2.0",
            "_view_count": null,
            "flex_flow": null,
            "width": null,
            "min_width": null,
            "border": null,
            "align_items": null,
            "bottom": null,
            "_model_module": "@jupyter-widgets/base",
            "top": null,
            "grid_column": null,
            "overflow_y": null,
            "overflow_x": null,
            "grid_auto_flow": null,
            "grid_area": null,
            "grid_template_columns": null,
            "flex": null,
            "_model_name": "LayoutModel",
            "justify_items": null,
            "grid_row": null,
            "max_height": null,
            "align_content": null,
            "visibility": null,
            "align_self": null,
            "height": null,
            "min_height": null,
            "padding": null,
            "grid_auto_rows": null,
            "grid_gap": null,
            "max_width": null,
            "order": null,
            "_view_module_version": "1.2.0",
            "grid_template_areas": null,
            "object_position": null,
            "object_fit": null,
            "grid_auto_columns": null,
            "margin": null,
            "display": null,
            "left": null
          }
        },
        "ea2acb576baa45cb86144aab5caa1e78": {
          "model_module": "@jupyter-widgets/controls",
          "model_name": "DescriptionStyleModel",
          "state": {
            "_view_name": "StyleView",
            "_model_name": "DescriptionStyleModel",
            "description_width": "",
            "_view_module": "@jupyter-widgets/base",
            "_model_module_version": "1.5.0",
            "_view_count": null,
            "_view_module_version": "1.2.0",
            "_model_module": "@jupyter-widgets/controls"
          }
        },
        "34f6d35dc5084163abd4f70030e57963": {
          "model_module": "@jupyter-widgets/base",
          "model_name": "LayoutModel",
          "state": {
            "_view_name": "LayoutView",
            "grid_template_rows": null,
            "right": null,
            "justify_content": null,
            "_view_module": "@jupyter-widgets/base",
            "overflow": null,
            "_model_module_version": "1.2.0",
            "_view_count": null,
            "flex_flow": null,
            "width": null,
            "min_width": null,
            "border": null,
            "align_items": null,
            "bottom": null,
            "_model_module": "@jupyter-widgets/base",
            "top": null,
            "grid_column": null,
            "overflow_y": null,
            "overflow_x": null,
            "grid_auto_flow": null,
            "grid_area": null,
            "grid_template_columns": null,
            "flex": null,
            "_model_name": "LayoutModel",
            "justify_items": null,
            "grid_row": null,
            "max_height": null,
            "align_content": null,
            "visibility": null,
            "align_self": null,
            "height": null,
            "min_height": null,
            "padding": null,
            "grid_auto_rows": null,
            "grid_gap": null,
            "max_width": null,
            "order": null,
            "_view_module_version": "1.2.0",
            "grid_template_areas": null,
            "object_position": null,
            "object_fit": null,
            "grid_auto_columns": null,
            "margin": null,
            "display": null,
            "left": null
          }
        }
      }
    }
  },
  "cells": [
    {
      "cell_type": "markdown",
      "metadata": {
        "id": "view-in-github",
        "colab_type": "text"
      },
      "source": [
        "<a href=\"https://colab.research.google.com/github/anas-awadalla/Incepto/blob/master/interpretability_experiments/Resnet_18_FAISS_Product_quantization.ipynb\" target=\"_parent\"><img src=\"https://colab.research.google.com/assets/colab-badge.svg\" alt=\"Open In Colab\"/></a>"
      ]
    },
    {
      "cell_type": "code",
      "metadata": {
        "id": "InTsVo0Mo4K6",
        "colab_type": "code",
        "colab": {
          "base_uri": "https://localhost:8080/",
          "height": 136
        },
        "outputId": "9c6e921c-27a8-4b12-96e4-bcca4017086e"
      },
      "source": [
        "!git clone https://github.com/huyvnphan/PyTorch_CIFAR10.git"
      ],
      "execution_count": 1,
      "outputs": [
        {
          "output_type": "stream",
          "text": [
            "Cloning into 'PyTorch_CIFAR10'...\n",
            "remote: Enumerating objects: 9, done.\u001b[K\n",
            "remote: Counting objects: 100% (9/9), done.\u001b[K\n",
            "remote: Compressing objects: 100% (7/7), done.\u001b[K\n",
            "remote: Total 560 (delta 2), reused 4 (delta 2), pack-reused 551\u001b[K\n",
            "Receiving objects: 100% (560/560), 6.55 MiB | 4.17 MiB/s, done.\n",
            "Resolving deltas: 100% (184/184), done.\n"
          ],
          "name": "stdout"
        }
      ]
    },
    {
      "cell_type": "code",
      "metadata": {
        "id": "wLduiefkpYOM",
        "colab_type": "code",
        "colab": {
          "base_uri": "https://localhost:8080/",
          "height": 68
        },
        "outputId": "03df07f9-4253-4549-d4a4-2449d02251f5"
      },
      "source": [
        "# !python /content/cifar10_download.py"
      ],
      "execution_count": null,
      "outputs": [
        {
          "output_type": "stream",
          "text": [
            "100% 2.46G/2.46G [03:33<00:00, 11.5MMiB/s]\n",
            "Download successful. Unzipping file.\n",
            "Unzip file successful!\n"
          ],
          "name": "stdout"
        }
      ]
    },
    {
      "cell_type": "code",
      "metadata": {
        "id": "zbvZ8XN1-uKH",
        "colab_type": "code",
        "colab": {}
      },
      "source": [
        "import torch\n",
        "import torchvision\n",
        "import torch.nn as nn\n",
        "import torch.optim as optim\n",
        "from torch.optim import lr_scheduler\n",
        "import numpy as np\n",
        "import torchvision\n",
        "from torchvision import datasets, models, transforms\n",
        "import matplotlib.pyplot as plt\n",
        "import time\n",
        "import os\n",
        "import copy\n",
        "torch.cuda.set_device(0)"
      ],
      "execution_count": 1,
      "outputs": []
    },
    {
      "cell_type": "code",
      "metadata": {
        "id": "Ms7_t7jWVkec",
        "colab_type": "code",
        "tags": [],
        "colab": {
          "base_uri": "https://localhost:8080/",
          "height": 51
        },
        "outputId": "50cc1ff6-0fba-45b7-9cfd-e596287016f0"
      },
      "source": [
        "from tqdm.notebook import tqdm\n",
        "images = []\n",
        "features = []\n",
        "trans = transform=transforms.Compose([\n",
        "        transforms.Resize((224,224)),\n",
        "        transforms.ToTensor(),\n",
        "        transforms.Normalize([0.485, 0.456, 0.406], [0.229, 0.224, 0.225])\n",
        "    ])\n",
        "\n",
        "dataset_imgs = torchvision.datasets.CIFAR10(\"/data/\",download=True,train=False,transform=trans)\n",
        "dataloader_imgs = torch.utils.data.DataLoader(dataset_imgs, batch_size=1)\n",
        "\n",
        "\n",
        "toPil = transform=transforms.Compose([\n",
        "        transforms.ToPILImage()\n",
        "    ])\n",
        "\n",
        "imgs = torchvision.datasets.CIFAR10(\"/data/\",download=True,train=False,transform=transforms.Compose([\n",
        "        transforms.Resize(256),\n",
        "        transforms.ToTensor()\n",
        "        ]))\n",
        "imgs = torch.utils.data.DataLoader(imgs, batch_size=1)\n",
        "\n"
      ],
      "execution_count": 2,
      "outputs": [
        {
          "output_type": "stream",
          "text": [
            "Files already downloaded and verified\n",
            "Files already downloaded and verified\n"
          ],
          "name": "stdout"
        }
      ]
    },
    {
      "cell_type": "code",
      "metadata": {
        "id": "IltzoD-gRUrp",
        "colab_type": "code",
        "colab": {
          "base_uri": "https://localhost:8080/",
          "height": 1000
        },
        "outputId": "4b165f82-57bb-488d-8883-bceeb0bfb495"
      },
      "source": [
        "from PyTorch_CIFAR10.cifar10_models import *\n",
        "\n",
        "# Pretrained model\n",
        "model = resnet18(pretrained=True)\n",
        "model.eval().cuda()"
      ],
      "execution_count": 3,
      "outputs": [
        {
          "output_type": "execute_result",
          "data": {
            "text/plain": [
              "ResNet(\n",
              "  (conv1): Conv2d(3, 64, kernel_size=(3, 3), stride=(1, 1), padding=(1, 1), bias=False)\n",
              "  (bn1): BatchNorm2d(64, eps=1e-05, momentum=0.1, affine=True, track_running_stats=True)\n",
              "  (relu): ReLU(inplace=True)\n",
              "  (maxpool): MaxPool2d(kernel_size=3, stride=2, padding=1, dilation=1, ceil_mode=False)\n",
              "  (layer1): Sequential(\n",
              "    (0): BasicBlock(\n",
              "      (conv1): Conv2d(64, 64, kernel_size=(3, 3), stride=(1, 1), padding=(1, 1), bias=False)\n",
              "      (bn1): BatchNorm2d(64, eps=1e-05, momentum=0.1, affine=True, track_running_stats=True)\n",
              "      (relu): ReLU(inplace=True)\n",
              "      (conv2): Conv2d(64, 64, kernel_size=(3, 3), stride=(1, 1), padding=(1, 1), bias=False)\n",
              "      (bn2): BatchNorm2d(64, eps=1e-05, momentum=0.1, affine=True, track_running_stats=True)\n",
              "    )\n",
              "    (1): BasicBlock(\n",
              "      (conv1): Conv2d(64, 64, kernel_size=(3, 3), stride=(1, 1), padding=(1, 1), bias=False)\n",
              "      (bn1): BatchNorm2d(64, eps=1e-05, momentum=0.1, affine=True, track_running_stats=True)\n",
              "      (relu): ReLU(inplace=True)\n",
              "      (conv2): Conv2d(64, 64, kernel_size=(3, 3), stride=(1, 1), padding=(1, 1), bias=False)\n",
              "      (bn2): BatchNorm2d(64, eps=1e-05, momentum=0.1, affine=True, track_running_stats=True)\n",
              "    )\n",
              "  )\n",
              "  (layer2): Sequential(\n",
              "    (0): BasicBlock(\n",
              "      (conv1): Conv2d(64, 128, kernel_size=(3, 3), stride=(2, 2), padding=(1, 1), bias=False)\n",
              "      (bn1): BatchNorm2d(128, eps=1e-05, momentum=0.1, affine=True, track_running_stats=True)\n",
              "      (relu): ReLU(inplace=True)\n",
              "      (conv2): Conv2d(128, 128, kernel_size=(3, 3), stride=(1, 1), padding=(1, 1), bias=False)\n",
              "      (bn2): BatchNorm2d(128, eps=1e-05, momentum=0.1, affine=True, track_running_stats=True)\n",
              "      (downsample): Sequential(\n",
              "        (0): Conv2d(64, 128, kernel_size=(1, 1), stride=(2, 2), bias=False)\n",
              "        (1): BatchNorm2d(128, eps=1e-05, momentum=0.1, affine=True, track_running_stats=True)\n",
              "      )\n",
              "    )\n",
              "    (1): BasicBlock(\n",
              "      (conv1): Conv2d(128, 128, kernel_size=(3, 3), stride=(1, 1), padding=(1, 1), bias=False)\n",
              "      (bn1): BatchNorm2d(128, eps=1e-05, momentum=0.1, affine=True, track_running_stats=True)\n",
              "      (relu): ReLU(inplace=True)\n",
              "      (conv2): Conv2d(128, 128, kernel_size=(3, 3), stride=(1, 1), padding=(1, 1), bias=False)\n",
              "      (bn2): BatchNorm2d(128, eps=1e-05, momentum=0.1, affine=True, track_running_stats=True)\n",
              "    )\n",
              "  )\n",
              "  (layer3): Sequential(\n",
              "    (0): BasicBlock(\n",
              "      (conv1): Conv2d(128, 256, kernel_size=(3, 3), stride=(2, 2), padding=(1, 1), bias=False)\n",
              "      (bn1): BatchNorm2d(256, eps=1e-05, momentum=0.1, affine=True, track_running_stats=True)\n",
              "      (relu): ReLU(inplace=True)\n",
              "      (conv2): Conv2d(256, 256, kernel_size=(3, 3), stride=(1, 1), padding=(1, 1), bias=False)\n",
              "      (bn2): BatchNorm2d(256, eps=1e-05, momentum=0.1, affine=True, track_running_stats=True)\n",
              "      (downsample): Sequential(\n",
              "        (0): Conv2d(128, 256, kernel_size=(1, 1), stride=(2, 2), bias=False)\n",
              "        (1): BatchNorm2d(256, eps=1e-05, momentum=0.1, affine=True, track_running_stats=True)\n",
              "      )\n",
              "    )\n",
              "    (1): BasicBlock(\n",
              "      (conv1): Conv2d(256, 256, kernel_size=(3, 3), stride=(1, 1), padding=(1, 1), bias=False)\n",
              "      (bn1): BatchNorm2d(256, eps=1e-05, momentum=0.1, affine=True, track_running_stats=True)\n",
              "      (relu): ReLU(inplace=True)\n",
              "      (conv2): Conv2d(256, 256, kernel_size=(3, 3), stride=(1, 1), padding=(1, 1), bias=False)\n",
              "      (bn2): BatchNorm2d(256, eps=1e-05, momentum=0.1, affine=True, track_running_stats=True)\n",
              "    )\n",
              "  )\n",
              "  (layer4): Sequential(\n",
              "    (0): BasicBlock(\n",
              "      (conv1): Conv2d(256, 512, kernel_size=(3, 3), stride=(2, 2), padding=(1, 1), bias=False)\n",
              "      (bn1): BatchNorm2d(512, eps=1e-05, momentum=0.1, affine=True, track_running_stats=True)\n",
              "      (relu): ReLU(inplace=True)\n",
              "      (conv2): Conv2d(512, 512, kernel_size=(3, 3), stride=(1, 1), padding=(1, 1), bias=False)\n",
              "      (bn2): BatchNorm2d(512, eps=1e-05, momentum=0.1, affine=True, track_running_stats=True)\n",
              "      (downsample): Sequential(\n",
              "        (0): Conv2d(256, 512, kernel_size=(1, 1), stride=(2, 2), bias=False)\n",
              "        (1): BatchNorm2d(512, eps=1e-05, momentum=0.1, affine=True, track_running_stats=True)\n",
              "      )\n",
              "    )\n",
              "    (1): BasicBlock(\n",
              "      (conv1): Conv2d(512, 512, kernel_size=(3, 3), stride=(1, 1), padding=(1, 1), bias=False)\n",
              "      (bn1): BatchNorm2d(512, eps=1e-05, momentum=0.1, affine=True, track_running_stats=True)\n",
              "      (relu): ReLU(inplace=True)\n",
              "      (conv2): Conv2d(512, 512, kernel_size=(3, 3), stride=(1, 1), padding=(1, 1), bias=False)\n",
              "      (bn2): BatchNorm2d(512, eps=1e-05, momentum=0.1, affine=True, track_running_stats=True)\n",
              "    )\n",
              "  )\n",
              "  (avgpool): AdaptiveAvgPool2d(output_size=(1, 1))\n",
              "  (fc): Linear(in_features=512, out_features=10, bias=True)\n",
              ")"
            ]
          },
          "metadata": {
            "tags": []
          },
          "execution_count": 3
        }
      ]
    },
    {
      "cell_type": "code",
      "metadata": {
        "id": "vkdclWGmBKNF",
        "colab_type": "code",
        "tags": [],
        "colab": {
          "base_uri": "https://localhost:8080/",
          "height": 319
        },
        "outputId": "4c1414c7-17f1-4dc5-9c2f-3355cf193632"
      },
      "source": [
        "from matplotlib.pyplot import imshow\n",
        "from PIL import Image\n",
        "image_path = \"/content/car.png\" #@param {type: \"string\"}\n",
        "ood_img = Image.open(image_path) \n",
        "\n",
        "ood_tensor_img = trans(ood_img)\n",
        "\n",
        "model.cpu().eval()\n",
        "output = model(ood_tensor_img.unsqueeze(0))\n",
        "print(torch.softmax(output,dim = 1))\n",
        "print(\"Output: \", torch.argmax(output).item())\n",
        "imshow(ood_img)"
      ],
      "execution_count": 4,
      "outputs": [
        {
          "output_type": "stream",
          "text": [
            "tensor([[2.1114e-03, 6.9757e-05, 3.4759e-03, 1.8843e-01, 2.0329e-02, 7.2110e-01,\n",
            "         5.0108e-04, 2.6061e-04, 6.3138e-02, 5.8486e-04]],\n",
            "       grad_fn=<SoftmaxBackward>)\n",
            "Output:  5\n"
          ],
          "name": "stdout"
        },
        {
          "output_type": "execute_result",
          "data": {
            "text/plain": [
              "<matplotlib.image.AxesImage at 0x7fd751fc5f28>"
            ]
          },
          "metadata": {
            "tags": []
          },
          "execution_count": 4
        },
        {
          "output_type": "display_data",
          "data": {
            "image/png": "[encoded data removed]",
            "text/plain": [
              "<Figure size 432x288 with 1 Axes>"
            ]
          },
          "metadata": {
            "tags": [],
            "needs_background": "light"
          }
        }
      ]
    },
    {
      "cell_type": "markdown",
      "metadata": {
        "id": "Plb1Zc84V1hl",
        "colab_type": "text"
      },
      "source": [
        "Get Convolutional Layers"
      ]
    },
    {
      "cell_type": "code",
      "metadata": {
        "id": "fuAf3dixLzsM",
        "colab_type": "code",
        "tags": [],
        "colab": {
          "base_uri": "https://localhost:8080/",
          "height": 34
        },
        "outputId": "6c034911-3cd0-4eae-ab82-524676d1f8b0"
      },
      "source": [
        "model_children = list(model.children())\n",
        "model_weights = []\n",
        "conv_layers = []\n",
        "\n",
        "# counter to keep count of the conv layers\n",
        "counter = 0 \n",
        "\n",
        "# append all the conv layers and their respective weights to the list\n",
        "for i in range(len(model_children)):\n",
        "    if type(model_children[i]) == nn.Conv2d:\n",
        "        counter += 1\n",
        "        model_weights.append(model_children[i].weight)\n",
        "        conv_layers.append(model_children[i])\n",
        "    elif type(model_children[i]) == nn.Sequential:\n",
        "        for j in range(len(model_children[i])):\n",
        "            for child in model_children[i][j].children():\n",
        "                if type(child) == nn.Conv2d:\n",
        "                    counter += 1\n",
        "                    model_weights.append(child.weight)\n",
        "                    conv_layers.append(child)\n",
        "print(f\"Total convolutional layers: {counter}\")"
      ],
      "execution_count": 5,
      "outputs": [
        {
          "output_type": "stream",
          "text": [
            "Total convolutional layers: 17\n"
          ],
          "name": "stdout"
        }
      ]
    },
    {
      "cell_type": "code",
      "metadata": {
        "id": "XUHdULd_wDU0",
        "colab_type": "code",
        "tags": [],
        "colab": {
          "base_uri": "https://localhost:8080/",
          "height": 595
        },
        "outputId": "626826f2-c006-423d-dbdf-c6c1d24c1c57"
      },
      "source": [
        "!pip install torchray"
      ],
      "execution_count": 9,
      "outputs": [
        {
          "output_type": "stream",
          "text": [
            "Collecting torchray\n",
            "\u001b[?25l  Downloading https://files.pythonhosted.org/packages/6b/3e/339cd7a0866b0ec501f7507b89d293e1515d4b1e308eeaed0fd75e7d2614/torchray-1.0.0.2.tar.gz (376kB)\n",
            "\u001b[K     |████████████████████████████████| 378kB 2.5MB/s \n",
            "\u001b[?25hCollecting importlib_resources\n",
            "  Downloading https://files.pythonhosted.org/packages/ba/03/0f9595c0c2ef12590877f3c47e5f579759ce5caf817f8256d5dcbd8a1177/importlib_resources-3.0.0-py2.py3-none-any.whl\n",
            "Requirement already satisfied: matplotlib in /usr/local/lib/python3.6/dist-packages (from torchray) (3.2.2)\n",
            "Requirement already satisfied: packaging in /usr/local/lib/python3.6/dist-packages (from torchray) (20.4)\n",
            "Requirement already satisfied: pycocotools>=2.0.0 in /usr/local/lib/python3.6/dist-packages (from torchray) (2.0.1)\n",
            "Requirement already satisfied: pymongo in /usr/local/lib/python3.6/dist-packages (from torchray) (3.11.0)\n",
            "Requirement already satisfied: requests in /usr/local/lib/python3.6/dist-packages (from torchray) (2.23.0)\n",
            "Requirement already satisfied: torch>=1.1 in /usr/local/lib/python3.6/dist-packages (from torchray) (1.6.0+cu101)\n",
            "Requirement already satisfied: torchvision>=0.3.0 in /usr/local/lib/python3.6/dist-packages (from torchray) (0.7.0+cu101)\n",
            "Requirement already satisfied: zipp>=0.4; python_version < \"3.8\" in /usr/local/lib/python3.6/dist-packages (from importlib_resources->torchray) (3.1.0)\n",
            "Requirement already satisfied: pyparsing!=2.0.4,!=2.1.2,!=2.1.6,>=2.0.1 in /usr/local/lib/python3.6/dist-packages (from matplotlib->torchray) (2.4.7)\n",
            "Requirement already satisfied: kiwisolver>=1.0.1 in /usr/local/lib/python3.6/dist-packages (from matplotlib->torchray) (1.2.0)\n",
            "Requirement already satisfied: cycler>=0.10 in /usr/local/lib/python3.6/dist-packages (from matplotlib->torchray) (0.10.0)\n",
            "Requirement already satisfied: python-dateutil>=2.1 in /usr/local/lib/python3.6/dist-packages (from matplotlib->torchray) (2.8.1)\n",
            "Requirement already satisfied: numpy>=1.11 in /usr/local/lib/python3.6/dist-packages (from matplotlib->torchray) (1.18.5)\n",
            "Requirement already satisfied: six in /usr/local/lib/python3.6/dist-packages (from packaging->torchray) (1.15.0)\n",
            "Requirement already satisfied: setuptools>=18.0 in /usr/local/lib/python3.6/dist-packages (from pycocotools>=2.0.0->torchray) (49.6.0)\n",
            "Requirement already satisfied: cython>=0.27.3 in /usr/local/lib/python3.6/dist-packages (from pycocotools>=2.0.0->torchray) (0.29.21)\n",
            "Requirement already satisfied: certifi>=2017.4.17 in /usr/local/lib/python3.6/dist-packages (from requests->torchray) (2020.6.20)\n",
            "Requirement already satisfied: urllib3!=1.25.0,!=1.25.1,<1.26,>=1.21.1 in /usr/local/lib/python3.6/dist-packages (from requests->torchray) (1.24.3)\n",
            "Requirement already satisfied: chardet<4,>=3.0.2 in /usr/local/lib/python3.6/dist-packages (from requests->torchray) (3.0.4)\n",
            "Requirement already satisfied: idna<3,>=2.5 in /usr/local/lib/python3.6/dist-packages (from requests->torchray) (2.10)\n",
            "Requirement already satisfied: future in /usr/local/lib/python3.6/dist-packages (from torch>=1.1->torchray) (0.16.0)\n",
            "Requirement already satisfied: pillow>=4.1.1 in /usr/local/lib/python3.6/dist-packages (from torchvision>=0.3.0->torchray) (7.0.0)\n",
            "Building wheels for collected packages: torchray\n",
            "  Building wheel for torchray (setup.py) ... \u001b[?25l\u001b[?25hdone\n",
            "  Created wheel for torchray: filename=torchray-1.0.0.2-cp36-none-any.whl size=444028 sha256=4346caddd77a318a6e189e641df364e4dcb358b921db52baf09047c9012c6064\n",
            "  Stored in directory: /root/.cache/pip/wheels/49/21/6d/e6794f79658b66a0775b164fdd274b81a4c96e4eab5baaacb0\n",
            "Successfully built torchray\n",
            "Installing collected packages: importlib-resources, torchray\n",
            "Successfully installed importlib-resources-3.0.0 torchray-1.0.0.2\n"
          ],
          "name": "stdout"
        }
      ]
    },
    {
      "cell_type": "code",
      "metadata": {
        "id": "TPIvqvhWOF2T",
        "colab_type": "code",
        "colab": {}
      },
      "source": [
        "from torchray.attribution.extremal_perturbation import extremal_perturbation, contrastive_reward\n",
        "from torchvision.utils import save_image\n",
        "import cv2\n",
        "# from google.colab.patches import cv2_imshow\n",
        "\n",
        "import matplotlib.pyplot as plt\n",
        "\n",
        "img_to_tensor = transform=transforms.Compose([\n",
        "        transforms.Resize((224,224)),\n",
        "        transforms.ToTensor()])\n",
        "\n",
        "def perturbation(x,img,y, path, area=0.1):\n",
        "  # Extremal perturbation\n",
        "      masks_1,_ = extremal_perturbation(\n",
        "          model.cuda(), x.cuda(), y,\n",
        "          reward_func=contrastive_reward,\n",
        "          perturbation=\"blur\",\n",
        "          debug=False,\n",
        "          areas=[area],\n",
        "          smooth=0.01,\n",
        "          max_iter=800\n",
        "      )\n",
        "      ## Crop Important Area\n",
        "      dat=torch.round(masks_1)[0].cpu().detach().numpy() # 'sharpen' mask\n",
        "      true_points = np.argwhere(dat)\n",
        "\n",
        "      # take the smallest points and use them as the top left of your crop\n",
        "      top_left = true_points.min(axis=0)\n",
        "      # take the largest points and use them as the bottom right of your crop\n",
        "      bottom_right = true_points.max(axis=0)\n",
        "\n",
        "      img = img_to_tensor(img)\n",
        "\n",
        "      save_image(img,path)\n",
        "        \n",
        "      img = cv2.imread(path, cv2.IMREAD_UNCHANGED)\n",
        "\n",
        "      start_point = (top_left[1], top_left[2]) \n",
        "      end_point = (bottom_right[1], bottom_right[2]) \n",
        "\n",
        "\n",
        "      color = (255, 0, 0) \n",
        "      thickness = 2\n",
        "      img = cv2.rectangle(img, start_point, end_point, (255, 0, 0), thickness)\n",
        "      img = cv2.cvtColor(img, cv2.COLOR_BGR2RGB)\n",
        "\n",
        "        # cv2.imwrite(\"img1.png\",np.asarray(x))\n",
        "      plt.imsave(path,img)\n",
        "       "
      ],
      "execution_count": 6,
      "outputs": []
    },
    {
      "cell_type": "code",
      "metadata": {
        "id": "neCLvF5EXVXD",
        "colab_type": "code",
        "colab": {}
      },
      "source": [
        "perturbation(ood_tensor_img.unsqueeze(0),ood_img,4,\"output_imgs/original.png\")"
      ],
      "execution_count": 8,
      "outputs": []
    },
    {
      "cell_type": "code",
      "metadata": {
        "id": "47tszJjWezVo",
        "colab_type": "code",
        "tags": [],
        "colab": {
          "base_uri": "https://localhost:8080/",
          "height": 119
        },
        "outputId": "60371f45-3825-457a-bbd8-b69d1ceb925a"
      },
      "source": [
        "!pip install faiss-cpu"
      ],
      "execution_count": 14,
      "outputs": [
        {
          "output_type": "stream",
          "text": [
            "Collecting faiss-cpu\n",
            "\u001b[?25l  Downloading https://files.pythonhosted.org/packages/1d/84/9de38703486d9f00b1a63590887a318d08c52f10f768968bd7626aee75da/faiss_cpu-1.6.3-cp36-cp36m-manylinux2010_x86_64.whl (7.2MB)\n",
            "\u001b[K     |████████████████████████████████| 7.2MB 2.5MB/s \n",
            "\u001b[?25hRequirement already satisfied: numpy in /usr/local/lib/python3.6/dist-packages (from faiss-cpu) (1.18.5)\n",
            "Installing collected packages: faiss-cpu\n",
            "Successfully installed faiss-cpu-1.6.3\n"
          ],
          "name": "stdout"
        }
      ]
    },
    {
      "cell_type": "code",
      "metadata": {
        "id": "YcA2jC8IpsyK",
        "colab_type": "code",
        "colab": {}
      },
      "source": [
        "import numpy as np\n",
        "import faiss"
      ],
      "execution_count": 7,
      "outputs": []
    },
    {
      "cell_type": "code",
      "metadata": {
        "id": "RDUDBUSZ5po5",
        "colab_type": "code",
        "tags": [],
        "colab": {
          "base_uri": "https://localhost:8080/",
          "height": 66,
          "referenced_widgets": [
            "39bd35fb99fe41849c27eaaac0017090",
            "052f714eb5c44ed78468269f9458ef05",
            "f5aa46e54d2a48c0909c5bafc5160b83",
            "9453ce91af5e4d8db11f4e77c15407c5",
            "8ae012389be241b9a010ae5cddb18e6a",
            "a5d3c3fa26064b8ca645d418897b33d4",
            "d7f121987bc048568aa78126fe8a4be5",
            "cd82968a73214222bd22a29cdf44dbf2"
          ]
        },
        "outputId": "5ff7182f-e231-444c-c972-f9a023b474ea"
      },
      "source": [
        "images = []\n",
        "for img, _ in tqdm(imgs):\n",
        "      images.append(toPil(img.squeeze(0)))"
      ],
      "execution_count": 8,
      "outputs": [
        {
          "output_type": "display_data",
          "data": {
            "application/vnd.jupyter.widget-view+json": {
              "model_id": "39bd35fb99fe41849c27eaaac0017090",
              "version_minor": 0,
              "version_major": 2
            },
            "text/plain": [
              "HBox(children=(FloatProgress(value=0.0, max=10000.0), HTML(value='')))"
            ]
          },
          "metadata": {
            "tags": []
          }
        },
        {
          "output_type": "stream",
          "text": [
            "\n"
          ],
          "name": "stdout"
        }
      ]
    },
    {
      "cell_type": "code",
      "metadata": {
        "id": "H06RA7LTGdvB",
        "colab_type": "code",
        "colab": {}
      },
      "source": [
        "import torch.nn.functional as F\n",
        "model.cuda()\n",
        "model.eval()\n",
        "\n",
        "m = torch.nn.MaxPool2d((2, 2), stride=(2, 1))\n",
        "filters = []\n",
        "##################################################### OOD Image #####################################################\n",
        "test_output = model(ood_tensor_img.unsqueeze(0).cuda())\n",
        "     # pass the image through all the layers\n",
        "results = [conv_layers[0](ood_tensor_img.unsqueeze(0).cuda())]\n",
        "for i in range(1, len(conv_layers)):\n",
        "        # pass the result from the last layer to the next layer\n",
        "        results.append(conv_layers[i](results[-1]))\n",
        "\n",
        "      \n",
        "for num_layer in range(len(conv_layers)):\n",
        "        layer_viz = results[num_layer]\n",
        "        layer_viz = F.interpolate(layer_viz,(56,56))[0, :, :, :]\n",
        "        layer_viz = layer_viz.data\n",
        "        for i, filter in enumerate(layer_viz):\n",
        "          filters.append(torch.flatten(filter).cpu().numpy())\n",
        "          # print(filter.shape)    \n",
        "\n",
        "\n",
        "test_features= torch.flatten(torch.tensor(filters)).cpu().detach().numpy()\n",
        "search_query = np.asarray([test_features])\n",
        "\n",
        "true_target = torch.argmax(test_output).item()"
      ],
      "execution_count": 11,
      "outputs": []
    },
    {
      "cell_type": "code",
      "metadata": {
        "id": "EdqkK11VhP0W",
        "colab_type": "code",
        "colab": {}
      },
      "source": [
        "  ##################################################### Create Index #####################################################\n",
        "\n",
        "import faiss\n",
        "import numpy as np\n",
        "import math\n",
        "\n",
        "D = len(search_query[0])\n",
        "N = 100\n",
        "# Xt = np.random.random((1000, D)).astype(np.float32)  # 10000 vectors for training\n",
        "# X = np.random.random((N, D)).astype(np.float32)\n",
        "\n",
        "# Param of PQ\n",
        "M = 8  # The number of sub-vector. Typically this is 8, 16, 32, etc.\n",
        "nbits = 8 # bits per sub-vector. This is typically 8, so that each sub-vec is encoded by 1 byte\n",
        "\n",
        "# Param of IVF\n",
        "nlist = int(math.sqrt(N))  # The number of cells (space partition). \n",
        "\n",
        "# Param of HNSW\n",
        "hnsw_m = 32  # The number of neighbors for HNSW. This is typically 32\n",
        "\n",
        "# Setup\n",
        "quantizer = faiss.IndexHNSWFlat(D, hnsw_m)\n",
        "index = faiss.IndexIVFPQ(quantizer, D, nlist, M, nbits)\n",
        "\n",
        "# # Train\n",
        "# index.train(Xt)\n",
        "\n",
        "# # Add\n",
        "# index.add(X)\n",
        "\n",
        "# # Search\n",
        "# index.nprobe = 8  # Runtime param. The number of cells that are visited for search.\n",
        "# topk = 4\n",
        "# dists, ids = index.search(x=X[:3], k=topk)\n",
        "\n",
        "# print(ids)\n",
        "# print(dists)"
      ],
      "execution_count": null,
      "outputs": []
    },
    {
      "cell_type": "code",
      "metadata": {
        "id": "nj_gJNAGez_i",
        "colab_type": "code",
        "tags": [],
        "colab": {
          "base_uri": "https://localhost:8080/",
          "height": 49,
          "referenced_widgets": [
            "c6f4ec40975e4183ae460cb2a70e8e4f",
            "96758e43869a40fcb1bb8efb65ef9e9b",
            "223be3fda48a46afbbc86e8f6c31ba9f",
            "6c84e648fefe42c79cb8614eee570b6a",
            "76617780e21b44fc8e9c8758bff6c375",
            "20ec8b0948b74b6699069d9777443ef5",
            "ea2acb576baa45cb86144aab5caa1e78",
            "34f6d35dc5084163abd4f70030e57963"
          ]
        },
        "outputId": "134b46a5-00ef-47c8-e189-1b542af44ecb"
      },
      "source": [
        "import torch.nn.functional as F\n",
        "\n",
        "overall_layer = float(\"-inf\")\n",
        "model.cuda()\n",
        "model.eval()\n",
        "num_correct = 0\n",
        "features = []\n",
        "targets = []\n",
        "\n",
        "\n",
        "# m = torch.nn.MaxPool2d((2, 2), stride=(2, 1))\n",
        "\n",
        "count = 0\n",
        "\n",
        "\n",
        "for idx,(tensor, y) in tqdm(enumerate(dataloader_imgs)):\n",
        "      if count == 10:\n",
        "        break\n",
        "      # output = model(tensor.cuda())\n",
        "      targets.append(y.item())\n",
        "\n",
        "\n",
        "    # pass the image through all the layers\n",
        "      results = [conv_layers[0](tensor.cuda())]\n",
        "      for i in range(1, len(conv_layers)):\n",
        "        # pass the result from the last layer to the next layer\n",
        "        results.append(conv_layers[i](results[-1]))\n",
        "\n",
        "      filters = []\n",
        "      for num_layer in range(len(conv_layers)):\n",
        "        layer_viz = results[num_layer]\n",
        "        layer_viz = F.interpolate(layer_viz,(56,56))[0, :, :, :]\n",
        "        layer_viz = layer_viz.data\n",
        "        for i, filter in enumerate(layer_viz):\n",
        "          filters.append(torch.flatten(filter).cpu().numpy())\n",
        "          # print(filter.shape)\n",
        "      count+=1\n",
        "\n",
        "\n",
        "      # torch.save(torch.flatten(filters),\"activations/\"+str(count)+\".pt\")\n",
        "      features.append(torch.flatten(torch.tensor(filters)).cpu().detach().numpy())\n",
        "        \n",
        "\n",
        "\n"
      ],
      "execution_count": 33,
      "outputs": [
        {
          "output_type": "display_data",
          "data": {
            "application/vnd.jupyter.widget-view+json": {
              "model_id": "c6f4ec40975e4183ae460cb2a70e8e4f",
              "version_minor": 0,
              "version_major": 2
            },
            "text/plain": [
              "HBox(children=(FloatProgress(value=1.0, bar_style='info', max=1.0), HTML(value='')))"
            ]
          },
          "metadata": {
            "tags": []
          }
        }
      ]
    },
    {
      "cell_type": "code",
      "metadata": {
        "id": "Mk1bMp_Xn3bp",
        "colab_type": "code",
        "colab": {
          "base_uri": "https://localhost:8080/",
          "height": 351
        },
        "outputId": "7bb284de-7e42-4e3a-fd1f-2f6d68396ba2"
      },
      "source": [
        "# Train\n",
        "index.train(np.asarray(features))\n",
        "\n",
        "# Add\n",
        "index.add(np.asarray(features))\n",
        "\n",
        "# Search\n",
        "index.nprobe = 8  # Runtime param. The number of cells that are visited for search.\n",
        "topk = 4\n",
        "dists, ids = index.search(test_features, k=topk)\n",
        "\n",
        "print(ids)\n",
        "print(dists)"
      ],
      "execution_count": 38,
      "outputs": [
        {
          "output_type": "error",
          "ename": "AssertionError",
          "evalue": "ignored",
          "traceback": [
            "\u001b[0;31m---------------------------------------------------------------------------\u001b[0m",
            "\u001b[0;31mAssertionError\u001b[0m                            Traceback (most recent call last)",
            "\u001b[0;32m<ipython-input-38-c7d14f66cd44>\u001b[0m in \u001b[0;36m<module>\u001b[0;34m()\u001b[0m\n\u001b[1;32m      1\u001b[0m \u001b[0;31m# Train\u001b[0m\u001b[0;34m\u001b[0m\u001b[0;34m\u001b[0m\u001b[0;34m\u001b[0m\u001b[0m\n\u001b[0;32m----> 2\u001b[0;31m \u001b[0mindex\u001b[0m\u001b[0;34m.\u001b[0m\u001b[0mtrain\u001b[0m\u001b[0;34m(\u001b[0m\u001b[0mnp\u001b[0m\u001b[0;34m.\u001b[0m\u001b[0masarray\u001b[0m\u001b[0;34m(\u001b[0m\u001b[0mfeatures\u001b[0m\u001b[0;34m)\u001b[0m\u001b[0;34m)\u001b[0m\u001b[0;34m\u001b[0m\u001b[0;34m\u001b[0m\u001b[0m\n\u001b[0m\u001b[1;32m      3\u001b[0m \u001b[0;34m\u001b[0m\u001b[0m\n\u001b[1;32m      4\u001b[0m \u001b[0;31m# Add\u001b[0m\u001b[0;34m\u001b[0m\u001b[0;34m\u001b[0m\u001b[0;34m\u001b[0m\u001b[0m\n\u001b[1;32m      5\u001b[0m \u001b[0mindex\u001b[0m\u001b[0;34m.\u001b[0m\u001b[0madd\u001b[0m\u001b[0;34m(\u001b[0m\u001b[0mnp\u001b[0m\u001b[0;34m.\u001b[0m\u001b[0masarray\u001b[0m\u001b[0;34m(\u001b[0m\u001b[0mfeatures\u001b[0m\u001b[0;34m)\u001b[0m\u001b[0;34m)\u001b[0m\u001b[0;34m\u001b[0m\u001b[0;34m\u001b[0m\u001b[0m\n",
            "\u001b[0;32m/usr/local/lib/python3.6/dist-packages/faiss/__init__.py\u001b[0m in \u001b[0;36mreplacement_train\u001b[0;34m(self, x)\u001b[0m\n\u001b[1;32m    154\u001b[0m         \u001b[0;32massert\u001b[0m \u001b[0mx\u001b[0m\u001b[0;34m.\u001b[0m\u001b[0mflags\u001b[0m\u001b[0;34m.\u001b[0m\u001b[0mcontiguous\u001b[0m\u001b[0;34m\u001b[0m\u001b[0;34m\u001b[0m\u001b[0m\n\u001b[1;32m    155\u001b[0m         \u001b[0mn\u001b[0m\u001b[0;34m,\u001b[0m \u001b[0md\u001b[0m \u001b[0;34m=\u001b[0m \u001b[0mx\u001b[0m\u001b[0;34m.\u001b[0m\u001b[0mshape\u001b[0m\u001b[0;34m\u001b[0m\u001b[0;34m\u001b[0m\u001b[0m\n\u001b[0;32m--> 156\u001b[0;31m         \u001b[0;32massert\u001b[0m \u001b[0md\u001b[0m \u001b[0;34m==\u001b[0m \u001b[0mself\u001b[0m\u001b[0;34m.\u001b[0m\u001b[0md\u001b[0m\u001b[0;34m\u001b[0m\u001b[0;34m\u001b[0m\u001b[0m\n\u001b[0m\u001b[1;32m    157\u001b[0m         \u001b[0mself\u001b[0m\u001b[0;34m.\u001b[0m\u001b[0mtrain_c\u001b[0m\u001b[0;34m(\u001b[0m\u001b[0mn\u001b[0m\u001b[0;34m,\u001b[0m \u001b[0mswig_ptr\u001b[0m\u001b[0;34m(\u001b[0m\u001b[0mx\u001b[0m\u001b[0;34m)\u001b[0m\u001b[0;34m)\u001b[0m\u001b[0;34m\u001b[0m\u001b[0;34m\u001b[0m\u001b[0m\n\u001b[1;32m    158\u001b[0m \u001b[0;34m\u001b[0m\u001b[0m\n",
            "\u001b[0;31mAssertionError\u001b[0m: "
          ]
        }
      ]
    },
    {
      "cell_type": "code",
      "metadata": {
        "id": "5GIVfjI8i86x",
        "colab_type": "code",
        "colab": {}
      },
      "source": [
        "from PIL import Image\n",
        "num = 0\n",
        "for i in debug_imgs:\n",
        "  images[i].save(\"in-dist\"+str(num)+\".png\")\n",
        "  num+=1\n",
        "  "
      ],
      "execution_count": null,
      "outputs": []
    },
    {
      "cell_type": "code",
      "metadata": {
        "id": "S1QhAko6A1RX",
        "colab_type": "code",
        "colab": {}
      },
      "source": [
        "from PIL import Image\n",
        "num = 0\n",
        "for i in debug_imgs:\n",
        "  perturbation(trans(images[i]).unsqueeze(0),images[i],targets[i],\"output_imgs/ood\"+str(num)+\".png\")\n",
        "  # images[i].save(\"/home/anasa2/Incepto/Incepto/output_imgs/ood\"+str(num)+\".png\")\n",
        "  num+=1"
      ],
      "execution_count": null,
      "outputs": []
    },
    {
      "cell_type": "markdown",
      "metadata": {
        "id": "OrCTfwRjn6aH",
        "colab_type": "text"
      },
      "source": [
        "## Single Image High Resolution"
      ]
    },
    {
      "cell_type": "code",
      "metadata": {
        "id": "jeGglOTZnFoF",
        "colab_type": "code",
        "colab": {}
      },
      "source": [
        "!git clone https://github.com/krasserm/super-resolution.git"
      ],
      "execution_count": null,
      "outputs": []
    },
    {
      "cell_type": "code",
      "metadata": {
        "id": "6SI2Yu_Dn2S-",
        "colab_type": "code",
        "colab": {}
      },
      "source": [
        "!cp -r super-resolution/model/ /content/\n",
        "!cp super-resolution/utils.py /content/"
      ],
      "execution_count": null,
      "outputs": []
    },
    {
      "cell_type": "code",
      "metadata": {
        "id": "pVjuihEGoNaj",
        "colab_type": "code",
        "colab": {}
      },
      "source": [
        "from model.srgan import generator\n",
        "from utils import load_image, plot_sample\n",
        "from model.common import resolve_single\n",
        "\n",
        "model_hr = generator()\n",
        "model_hr.load_weights('/content/drive/My Drive/Interpretability Experiments/srgan_weights/srgan/gan_generator.h5')\n",
        "\n",
        "lr = load_image('image2.png')[:,:,:3]\n",
        "sr = resolve_single(model_hr, lr)\n",
        "print(\"Testing Single Image Super Resolution\")\n",
        "plot_sample(lr, sr)\n"
      ],
      "execution_count": null,
      "outputs": []
    }
  ]
}